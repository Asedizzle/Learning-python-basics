{
 "cells": [
  {
   "cell_type": "code",
   "execution_count": 15,
   "metadata": {},
   "outputs": [
    {
     "name": "stdout",
     "output_type": "stream",
     "text": [
      "Problem Statement\n",
      "Poor nutrition has been identified as a risk factor for non-communicable diseases (NCDs) such as\n",
      "cardiovascular diseases, diabetes, chronic respiratory disorders and cancer (Olatona et al., 2018).\n",
      "Nutrition is vital in the growth and development of humans and animals. Proper nutrition is of\n",
      "utmost importance to maintain good health and functionality. Since nutrition affects health, it\n",
      "consequently affects individuals at the societal and economic level (Ohlhorst et al., 2013). Better\n",
      "nutrition has been linked to enhanced child and maternal health, improved immune response and\n",
      "lower risk of non-communicable diseases such as diabetes (World Health Organisation, 2019). In\n",
      "growing children, nutrition is of paramount importance since poor nutrition leads to malnutrition,\n",
      "and subsequently delay in physical development and cognitive impairment (Kandala et al., 2011).\n",
      "Some of these effects may be permanent. Despite the fact that growth is affected by genetics,\n",
      "nutrition has a big role to play to ensure growth occurs at the right time. Children that are\n",
      "undernourished have decreased attention span, poorer academic performance and more health\n",
      "issues than well-nourished children (Florence et al., 2008).\n",
      "4\n",
      "The eating habits of school children are affected by micronutrient deficiencies (DabonÃ© et al.,\n",
      "2011). Dietary habits common among school children, such as frequent eating of fast foods, is\n",
      "detrimental due to the poor nutrient quality of these foods (Kim et al., 2016). The frequent skipping\n",
      "of breakfast is also a major concern. Children demonstrate enhanced special and short-term\n",
      "memory after eating breakfast this is because breakfast improves cognitive functions (Kim et al.,\n",
      "2016). One of the factors that affects dietary choices is nutrition knowledge.\n",
      "Higher nutrition knowledge scores have been associated with age (with older peopl\n",
      "{'Problem': 1, 'Statement': 1, 'Poor': 1, 'nutrition': 9, 'has': 3, 'been': 3, 'identified': 1, 'as': 4, 'a': 3, 'risk': 2, 'factor': 1, 'for': 1, 'non-communicable': 2, 'diseases': 2, '(NCDs)': 1, 'such': 3, 'cardiovascular': 1, 'diseases,': 1, 'diabetes,': 1, 'chronic': 1, 'respiratory': 1, 'disorders': 1, 'and': 11, 'cancer': 1, '(Olatona': 1, 'et': 7, 'al.,': 7, '2018).': 1, 'Nutrition': 1, 'is': 8, 'vital': 1, 'in': 2, 'the': 6, 'growth': 3, 'development': 2, 'of': 10, 'humans': 1, 'animals.': 1, 'Proper': 1, 'utmost': 1, 'importance': 2, 'to': 6, 'maintain': 1, 'good': 1, 'health': 2, 'functionality.': 1, 'Since': 1, 'affects': 3, 'health,': 2, 'it': 1, 'consequently': 1, 'individuals': 1, 'at': 2, 'societal': 1, 'economic': 1, 'level': 1, '(Ohlhorst': 1, '2013).': 1, 'Better': 1, 'linked': 1, 'enhanced': 2, 'child': 1, 'maternal': 1, 'improved': 1, 'immune': 1, 'response': 1, 'lower': 1, 'diabetes': 1, '(World': 1, 'Health': 1, 'Organisation,': 1, '2019).': 1, 'In': 1, 'growing': 1, 'children,': 2, 'paramount': 1, 'since': 1, 'poor': 2, 'leads': 1, 'malnutrition,': 1, 'subsequently': 1, 'delay': 1, 'physical': 1, 'cognitive': 2, 'impairment': 1, '(Kandala': 1, '2011).': 2, 'Some': 1, 'these': 2, 'effects': 1, 'may': 1, 'be': 1, 'permanent.': 1, 'Despite': 1, 'fact': 1, 'that': 3, 'affected': 2, 'by': 2, 'genetics,': 1, 'big': 1, 'role': 1, 'play': 1, 'ensure': 1, 'occurs': 1, 'right': 1, 'time.': 1, 'Children': 2, 'are': 2, 'undernourished': 1, 'have': 2, 'decreased': 1, 'attention': 1, 'span,': 1, 'poorer': 1, 'academic': 1, 'performance': 1, 'more': 1, 'issues': 1, 'than': 1, 'well-nourished': 1, 'children': 2, '(Florence': 1, '2008).': 1, '4': 1, 'The': 2, 'eating': 3, 'habits': 2, 'school': 2, 'micronutrient': 1, 'deficiencies': 1, '(DabonÃ©': 1, 'Dietary': 1, 'common': 1, 'among': 1, 'frequent': 2, 'fast': 1, 'foods,': 1, 'detrimental': 1, 'due': 1, 'nutrient': 1, 'quality': 1, 'foods': 1, '(Kim': 2, '2016).': 2, 'skipping': 1, 'breakfast': 3, 'also': 1, 'major': 1, 'concern.': 1, 'demonstrate': 1, 'special': 1, 'short-term': 1, 'memory': 1, 'after': 1, 'this': 1, 'because': 1, 'improves': 1, 'functions': 1, 'One': 1, 'factors': 1, 'dietary': 1, 'choices': 1, 'knowledge.': 1, 'Higher': 1, 'knowledge': 1, 'scores': 1, 'associated': 1, 'with': 1, 'age': 1, '(with': 1, 'older': 1, 'peopl': 1}\n",
      "Problem 1\n",
      "nutrition 9\n",
      "and 11\n",
      "The most frequent word was and it appeared 11 times\n"
     ]
    }
   ],
   "source": [
    "#code that takes a text file, and splits lines into words,put words in a dictionary and gets the frequency of occurance of one word.\n",
    "s = {}\n",
    "file_name = input(\"Please enter a file name: \")\n",
    "if len(file_name) < 1 : file_name = \"clown.txt\"\n",
    "\n",
    "fhand = open(file_name)\n",
    "for line in fhand:\n",
    "    w = line.rstrip()\n",
    "    print(w)\n",
    "    words = line.split()\n",
    "    #print(words)\n",
    "    \n",
    "    for word in words:\n",
    "        s[word] = s.get(word, 0) + 1\n",
    "            \n",
    "print(s)\n",
    "\n",
    "biggest_freq = None\n",
    "highest_word = None\n",
    "\n",
    " \n",
    "for word,frequency in s.items():\n",
    "    if highest_word  is None or frequency > biggest_freq:\n",
    "        highest_word = word\n",
    "        biggest_freq = frequency\n",
    "        print(highest_word, biggest_freq)\n",
    "    \n",
    "print(\"The most frequent word was\", highest_word, \",\" \"it appeared\", biggest_freq, \"times\")\n"
   ]
  }
 ],
 "metadata": {
  "kernelspec": {
   "display_name": "Python 3",
   "language": "python",
   "name": "python3"
  },
  "language_info": {
   "codemirror_mode": {
    "name": "ipython",
    "version": 3
   },
   "file_extension": ".py",
   "mimetype": "text/x-python",
   "name": "python",
   "nbconvert_exporter": "python",
   "pygments_lexer": "ipython3",
   "version": "3.11.1"
  },
  "orig_nbformat": 4,
  "vscode": {
   "interpreter": {
    "hash": "75e8471d87e00636ba5a6da732d109ea2939ec337ebc809347bd7606d2472ad3"
   }
  }
 },
 "nbformat": 4,
 "nbformat_minor": 2
}
