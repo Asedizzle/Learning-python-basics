{
 "cells": [
  {
   "cell_type": "code",
   "execution_count": 28,
   "metadata": {},
   "outputs": [
    {
     "name": "stdout",
     "output_type": "stream",
     "text": [
      "Number of lines 11\n"
     ]
    }
   ],
   "source": [
    "x = 0\n",
    "f_handle = open(\"lll.txt\" , \"r\")\n",
    "for line in f_handle:\n",
    "    x = x + 1\n",
    "   \n",
    "print(\"Number of lines\" , x)"
   ]
  },
  {
   "cell_type": "code",
   "execution_count": null,
   "metadata": {},
   "outputs": [],
   "source": [
    "x = open(\"lll.txt\" , \"r\")\n",
    "for line in x:\n",
    "    if line.startswith(\"From\"):\n",
    "        print(line)"
   ]
  },
  {
   "cell_type": "code",
   "execution_count": 17,
   "metadata": {},
   "outputs": [
    {
     "name": "stdout",
     "output_type": "stream",
     "text": [
      "The man across from me had on a trechcoat and a hat. It would have been funny except his face was hidden by the shadows and the tone of his voice told me he was in charge here.\n"
     ]
    }
   ],
   "source": [
    "p = open(\"lll.txt\", \"r\")\n",
    "for i in p:\n",
    "    i = i.rstrip()\n",
    "    if i.startswith(\"The \"):\n",
    "         print(i)"
   ]
  },
  {
   "cell_type": "code",
   "execution_count": 22,
   "metadata": {},
   "outputs": [
    {
     "name": "stdout",
     "output_type": "stream",
     "text": [
      "From :amartinson@st.ug.edu.gh on 21st December, 2022.\n",
      "From :amartinson@st.ug.edu.gh on 21st December, 2022.\n",
      "From :amartinson@st.ug.edu.gh on 21st December, 2022.\n",
      "From :amartinson@st.ug.edu.gh on 21st December, 2022.\n"
     ]
    }
   ],
   "source": [
    "#These two codes do the same thing\n",
    "\n",
    "k = open(\"lll.txt\", \"r\")\n",
    "for i in k:\n",
    "    if i.startswith(\"From\"):\n",
    "        print(i)\n",
    "        \n",
    "k = open(\"lll.txt\" , \"r\")\n",
    "for line in k:\n",
    "    if not line.startswith(\"From\"):\n",
    "        continue\n",
    "    print(line)\n",
    "    \n",
    "file = open(\"lll.txt\", \"r\")\n",
    "for line in file:\n",
    "    if \"@st.ug.edu.gh\" in line:\n",
    "        print(line)\n",
    "        \n",
    "file = open(\"lll.txt\", \"r\")\n",
    "for line in file:\n",
    "    if not \"st.ug.edu.gh\" in line:\n",
    "        continue\n",
    "    print(line)"
   ]
  },
  {
   "cell_type": "code",
   "execution_count": 29,
   "metadata": {},
   "outputs": [
    {
     "name": "stdout",
     "output_type": "stream",
     "text": [
      "Total number of lines is  7\n"
     ]
    }
   ],
   "source": [
    "count = 0\n",
    "x = input(\"Please type the name of the file eg.icecream.txt\")\n",
    "try:\n",
    "    p = open(x, \"r\")\n",
    "    \n",
    "except:\n",
    "    print(\"File name\" , x , \"does not exist\")\n",
    "    quit() #very important\n",
    "    \n",
    "for line in x:\n",
    "    count += 1\n",
    "print(\"Total number of lines is \" , count )"
   ]
  },
  {
   "cell_type": "code",
   "execution_count": 34,
   "metadata": {},
   "outputs": [
    {
     "name": "stdout",
     "output_type": "stream",
     "text": [
      "<class 'float'>\n"
     ]
    }
   ],
   "source": [
    "text = \"X-DSPAM-Confidence:    0.8475\"\n",
    "y = text.split()\n",
    "h = (y[-1])\n",
    "\n",
    "t = float(h)\n",
    "print(type(t))\n"
   ]
  },
  {
   "cell_type": "code",
   "execution_count": 42,
   "metadata": {},
   "outputs": [
    {
     "name": "stdout",
     "output_type": "stream",
     "text": [
      "<class 'float'>\n"
     ]
    }
   ],
   "source": [
    "\n",
    "text = \"X-DSPAM-Confidence:    0.8475\"\n",
    "x = text.find(\":\")\n",
    "\n",
    "y = text.split()\n",
    "h = (y[-1])\n",
    "print(h)\n",
    "t = float(h)\n",
    "print(type(t))\n"
   ]
  },
  {
   "cell_type": "code",
   "execution_count": 43,
   "metadata": {},
   "outputs": [
    {
     "name": "stdout",
     "output_type": "stream",
     "text": [
      "42\n"
     ]
    }
   ],
   "source": [
    "print(len('banana')*7)"
   ]
  },
  {
   "cell_type": "code",
   "execution_count": null,
   "metadata": {},
   "outputs": [],
   "source": [
    "# Use the file name mbox-short.txt as the file name\n",
    "list = []\n",
    "fname = input(\"Enter file name: \")\n",
    "fh = open(fname)\n",
    "for line in fh:\n",
    "    if not line.startswith(\"X-DSPAM-Confidence:\"):\n",
    "        continue\n",
    "    #print(line)\n",
    "    words = line.split()\n",
    "    #print(words)\n",
    "    x = words[-1]\n",
    "    f_of_x = float(x)\n",
    "    #print(f_of_x)\n",
    "    list.append(f_of_x)\n",
    "  \n",
    "#print(list)\n",
    "total =  0\n",
    "count = 0\n",
    "for i in list:\n",
    "    total = total + i\n",
    "    count = count + 1\n",
    "    \n",
    "print(\"Average spam confidence:\",(total/count))\n",
    "\n"
   ]
  }
 ],
 "metadata": {
  "kernelspec": {
   "display_name": "Python 3",
   "language": "python",
   "name": "python3"
  },
  "language_info": {
   "codemirror_mode": {
    "name": "ipython",
    "version": 3
   },
   "file_extension": ".py",
   "mimetype": "text/x-python",
   "name": "python",
   "nbconvert_exporter": "python",
   "pygments_lexer": "ipython3",
   "version": "3.11.0 (main, Oct 24 2022, 18:26:48) [MSC v.1933 64 bit (AMD64)]"
  },
  "orig_nbformat": 4,
  "vscode": {
   "interpreter": {
    "hash": "75e8471d87e00636ba5a6da732d109ea2939ec337ebc809347bd7606d2472ad3"
   }
  }
 },
 "nbformat": 4,
 "nbformat_minor": 2
}
