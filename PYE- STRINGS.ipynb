{
 "cells": [
  {
   "cell_type": "code",
   "execution_count": 5,
   "metadata": {},
   "outputs": [
    {
     "name": "stdout",
     "output_type": "stream",
     "text": [
      "Thos would come before banana in a dictionary\n"
     ]
    }
   ],
   "source": [
    "\"\"\"string comparisms but only lexigraphical comparisms can be done , \n",
    "it is done using > or <.lexigraphically less or greater than.(Case can mess this up, evidenced by typing BANANA and reciving this would come after)\"\"\"\n",
    "\n",
    "word = input(\"Please type one word: \")\n",
    "if word == \"banana\":\n",
    "    print(\"Hey, I thought of that first\")\n",
    "elif word > \"banana\":\n",
    "    print(\"This would come after banana in a dictonary\")\n",
    "elif word < \"banana\":\n",
    "    print(\"This would come before banana in a dictionary\")\n"
   ]
  },
  {
   "cell_type": "code",
   "execution_count": 1,
   "metadata": {},
   "outputs": [
    {
     "name": "stdout",
     "output_type": "stream",
     "text": [
      "tonight\n",
      "TONIGHT\n",
      "TONIGHT\n"
     ]
    }
   ],
   "source": [
    "#code to try the string function .lower()\n",
    "party = \"TONIGHT\"\n",
    "s = party.lower()\n",
    "print(s)\n",
    "\n",
    "print(party) #notice how party remains itself\n",
    "\n",
    "print(\"wow thats's interesting\")\n",
    "\n",
    "k = print(s.upper())#opposite of .lower\n"
   ]
  },
  {
   "cell_type": "code",
   "execution_count": 2,
   "metadata": {},
   "outputs": [
    {
     "name": "stdout",
     "output_type": "stream",
     "text": [
      "HELLO\n"
     ]
    }
   ],
   "source": [
    "#code to try the string function .upper()\n",
    "greet = \"hello\"\n",
    "print(greet.upper())"
   ]
  },
  {
   "cell_type": "code",
   "execution_count": 13,
   "metadata": {},
   "outputs": [
    {
     "name": "stdout",
     "output_type": "stream",
     "text": [
      "5\n",
      "-1\n"
     ]
    }
   ],
   "source": [
    "#trying string function .find(prints index position at which character is found)\n",
    "colour = \"magenta\"\n",
    "j = colour.find(\"t\")\n",
    "print(j)\n",
    "\n",
    "\n",
    "\n",
    "k = colour.find(\"b\") #note returns -1 on failure\n",
    "print(k)\n",
    "\n"
   ]
  },
  {
   "cell_type": "code",
   "execution_count": 8,
   "metadata": {},
   "outputs": [
    {
     "name": "stdout",
     "output_type": "stream",
     "text": [
      "Wxlcomx\n"
     ]
    }
   ],
   "source": [
    "#Using the replace function .replace(), to search and replace\n",
    "F_r = \"Welcome\"\n",
    "P_l = F_r.replace(\"e\", \"x\")\n",
    "print(P_l)\n"
   ]
  },
  {
   "cell_type": "code",
   "execution_count": 7,
   "metadata": {},
   "outputs": [
    {
     "name": "stdout",
     "output_type": "stream",
     "text": [
      "Hey Kofi\n"
     ]
    }
   ],
   "source": [
    "#Using the replace function .replace(), to search and replace\n",
    "greet = \"Hey Ama\"\n",
    "win = greet.replace(\"Ama\" , \"Kofi\")\n",
    "print(win)\n"
   ]
  },
  {
   "cell_type": "code",
   "execution_count": 9,
   "metadata": {},
   "outputs": [
    {
     "name": "stdout",
     "output_type": "stream",
     "text": [
      "Hello Bob \n",
      " Hello Bob\n",
      "Hello Bob\n"
     ]
    }
   ],
   "source": [
    "#Stripping whitespace, using .lstrip, .rstrip, strip() moves whitespace left, right and does nothing at all if there is no space\n",
    "greet = \" Hello Bob \"\n",
    "r_str = greet.lstrip()\n",
    "print(r_str)\n",
    "\n",
    "l_str = greet.rstrip()\n",
    "print(l_str)\n",
    "\n",
    "S_str = greet.strip()\n",
    "print(S_str)"
   ]
  },
  {
   "cell_type": "code",
   "execution_count": 7,
   "metadata": {},
   "outputs": [
    {
     "name": "stdout",
     "output_type": "stream",
     "text": [
      "True\n",
      "False\n"
     ]
    }
   ],
   "source": [
    "#code that asks if var starts with smth(Will print true or false)\n",
    "Offer = \"Types of icecream\"\n",
    "fry = Offer.startswith(\"Types\")\n",
    "print(fry)\n",
    "\n",
    "dep = Offer.startswith(\"Please\")\n",
    "print(dep)"
   ]
  },
  {
   "cell_type": "code",
   "execution_count": 3,
   "metadata": {},
   "outputs": [],
   "source": [
    "\"\"\"Given a list of meals served over some period of time, return True if the\n",
    "    same meal has ever been served two days in a row, and False otherwise.\n",
    "    \"\"\"\n",
    "meals = [\"waakye\",\"jollof\",\"jollof\",\"kenkey\"]\n",
    "\n",
    "def menu_is_boring(meals):\n",
    "   for i in range(len(meals)-1):\n",
    "        if meals[i] == meals[i+1]:\n",
    "            return True\n",
    "        return False"
   ]
  },
  {
   "cell_type": "code",
   "execution_count": 9,
   "metadata": {},
   "outputs": [
    {
     "name": "stdout",
     "output_type": "stream",
     "text": [
      "Pluto's a planet\n",
      "Pluto's a planet\n"
     ]
    }
   ],
   "source": [
    "#Using a slash to escape so the ' shows in a single-quoted string\n",
    "x = \"Pluto's a planet\"\n",
    "y = 'Pluto\\'s a planet'\n",
    "print(y)\n",
    "print(x)"
   ]
  },
  {
   "cell_type": "code",
   "execution_count": null,
   "metadata": {},
   "outputs": [],
   "source": []
  }
 ],
 "metadata": {
  "kernelspec": {
   "display_name": "Python 3.11.0 64-bit",
   "language": "python",
   "name": "python3"
  },
  "language_info": {
   "codemirror_mode": {
    "name": "ipython",
    "version": 3
   },
   "file_extension": ".py",
   "mimetype": "text/x-python",
   "name": "python",
   "nbconvert_exporter": "python",
   "pygments_lexer": "ipython3",
   "version": "3.11.0 (main, Oct 24 2022, 18:26:48) [MSC v.1933 64 bit (AMD64)]"
  },
  "orig_nbformat": 4,
  "vscode": {
   "interpreter": {
    "hash": "75e8471d87e00636ba5a6da732d109ea2939ec337ebc809347bd7606d2472ad3"
   }
  }
 },
 "nbformat": 4,
 "nbformat_minor": 2
}
