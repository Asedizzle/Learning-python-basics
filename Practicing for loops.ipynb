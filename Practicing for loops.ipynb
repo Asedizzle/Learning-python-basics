{
 "cells": [
  {
   "cell_type": "code",
   "execution_count": 1,
   "metadata": {},
   "outputs": [
    {
     "name": "stdout",
     "output_type": "stream",
     "text": [
      "1\n",
      "2\n",
      "3\n"
     ]
    },
    {
     "ename": "ImportError",
     "evalue": "cannot import name 'BeautifulSoup' from 'bs4' (unknown location)",
     "output_type": "error",
     "traceback": [
      "\u001b[1;31m---------------------------------------------------------------------------\u001b[0m",
      "\u001b[1;31mImportError\u001b[0m                               Traceback (most recent call last)",
      "Cell \u001b[1;32mIn [1], line 4\u001b[0m\n\u001b[0;32m      2\u001b[0m \u001b[39mfor\u001b[39;00m i \u001b[39min\u001b[39;00m x:\n\u001b[0;32m      3\u001b[0m     \u001b[39mprint\u001b[39m(i)\n\u001b[1;32m----> 4\u001b[0m \u001b[39mfrom\u001b[39;00m \u001b[39mbs4\u001b[39;00m \u001b[39mimport\u001b[39;00m BeautifulSoup\n",
      "\u001b[1;31mImportError\u001b[0m: cannot import name 'BeautifulSoup' from 'bs4' (unknown location)"
     ]
    }
   ],
   "source": [
    "x = [1,2,3]\n",
    "for i in x:\n",
    "    print(i)\n"
   ]
  },
  {
   "cell_type": "code",
   "execution_count": 2,
   "metadata": {},
   "outputs": [
    {
     "name": "stdout",
     "output_type": "stream",
     "text": [
      "1\n",
      "3\n",
      "5\n",
      "7\n",
      "9\n",
      "11\n",
      "13\n",
      "15\n",
      "17\n",
      "19\n",
      "21\n",
      "23\n"
     ]
    }
   ],
   "source": [
    "for i in range(1,25,2):\n",
    "    print(i)\n"
   ]
  },
  {
   "cell_type": "code",
   "execution_count": 3,
   "metadata": {},
   "outputs": [
    {
     "name": "stdout",
     "output_type": "stream",
     "text": [
      "20\n",
      "19\n",
      "18\n",
      "17\n",
      "16\n",
      "15\n",
      "14\n",
      "13\n",
      "12\n"
     ]
    }
   ],
   "source": [
    "for i in range(20,11,-1):\n",
    "    print(i)"
   ]
  },
  {
   "cell_type": "code",
   "execution_count": 10,
   "metadata": {},
   "outputs": [
    {
     "name": "stdout",
     "output_type": "stream",
     "text": [
      "30\n",
      "28\n",
      "26\n",
      "24\n",
      "22\n",
      "20\n",
      "18\n",
      "16\n"
     ]
    }
   ],
   "source": [
    "for i in range(30,15,-2):\n",
    "    print(i)"
   ]
  },
  {
   "cell_type": "code",
   "execution_count": 1,
   "metadata": {},
   "outputs": [],
   "source": [
    "x = (input(\"How many drinks do you want: \"))\n",
    "i = 1\n",
    "while i<=x:\n",
    "    print(\"drink\")\n",
    "    i+=1\n"
   ]
  },
  {
   "cell_type": "code",
   "execution_count": 6,
   "metadata": {},
   "outputs": [
    {
     "name": "stdout",
     "output_type": "stream",
     "text": [
      "black\n",
      "excellence\n",
      "daily\n"
     ]
    }
   ],
   "source": [
    "x = [\"black\", \"excellence\", \"daily\"]\n",
    "for i in x:\n",
    "    print(i)"
   ]
  },
  {
   "cell_type": "code",
   "execution_count": 3,
   "metadata": {},
   "outputs": [
    {
     "name": "stdout",
     "output_type": "stream",
     "text": [
      "2\n",
      "4\n",
      "6\n",
      "8\n"
     ]
    }
   ],
   "source": [
    "for i in range(1,10,1):\n",
    "    if i % 2 == 0:\n",
    "        print(i)\n",
    "    "
   ]
  },
  {
   "cell_type": "code",
   "execution_count": 7,
   "metadata": {},
   "outputs": [
    {
     "name": "stdout",
     "output_type": "stream",
     "text": [
      "Black excelence daily\n",
      "Black excelence daily\n",
      "Black excelence daily\n",
      "Black excelence daily\n",
      "Black excelence daily\n",
      "Black excelence daily\n"
     ]
    }
   ],
   "source": [
    "i = 10\n",
    "while i>=5:\n",
    "    print(\"Black excelence daily\")\n",
    "    "
   ]
  },
  {
   "cell_type": "code",
   "execution_count": 7,
   "metadata": {},
   "outputs": [
    {
     "name": "stdout",
     "output_type": "stream",
     "text": [
      "False False True True "
     ]
    }
   ],
   "source": [
    "#Implement a function that reproduces this behaviour, returning a list of booleans corresponding to whether the corresponding element is greater than n\n",
    "#[1, 2, 3, 4] > 2\n",
    "\n",
    "x = [1, 2, 3, 4]\n",
    "for i in x:\n",
    "    if i > 2:\n",
    "        print(\"True \" , end=\"\")\n",
    "    else:\n",
    "        print('False ', end=\"\")"
   ]
  },
  {
   "cell_type": "code",
   "execution_count": 13,
   "metadata": {},
   "outputs": [
    {
     "name": "stdout",
     "output_type": "stream",
     "text": [
      "1 truly odd\n",
      "4 truly even\n",
      "5 truly odd\n",
      "6 truly even\n"
     ]
    }
   ],
   "source": [
    "x = [1,4,5,6]\n",
    "for i in x:\n",
    "    if i % 2 == 0:\n",
    "        print( i, 'truly even')\n",
    "    else: \n",
    "        print( i , \"truly odd\")\n",
    "        "
   ]
  },
  {
   "cell_type": "code",
   "execution_count": 3,
   "metadata": {},
   "outputs": [
    {
     "name": "stdout",
     "output_type": "stream",
     "text": [
      "Great Job\n"
     ]
    }
   ],
   "source": [
    "iden = input(\"Enter a number: \")\n",
    "try:\n",
    "    fin = int(iden)\n",
    "except:\n",
    "    fin = -1\n",
    "    \n",
    "if fin > 0:\n",
    "    print(\"Great Job\")\n",
    "else:\n",
    "    print(\"Try again with a number greater than zero\")\n"
   ]
  },
  {
   "cell_type": "code",
   "execution_count": 18,
   "metadata": {},
   "outputs": [
    {
     "name": "stdout",
     "output_type": "stream",
     "text": [
      "Please choose a number greater than zero\n"
     ]
    }
   ],
   "source": [
    "b = input(\"Please type a number\")\n",
    "try:\n",
    "    w = int(b)\n",
    "except:\n",
    "    w <= 0\n",
    "    \n",
    "if w <=0:\n",
    "    print(\"Please choose a number greater than zero\")\n",
    "else:\n",
    "    print(\"well done\")\n",
    "    "
   ]
  },
  {
   "cell_type": "code",
   "execution_count": 5,
   "metadata": {},
   "outputs": [
    {
     "name": "stdout",
     "output_type": "stream",
     "text": [
      "35.0\n"
     ]
    }
   ],
   "source": [
    "t =\"35\"\n",
    "r = float(t)\n",
    "print(r)"
   ]
  },
  {
   "cell_type": "code",
   "execution_count": 14,
   "metadata": {},
   "outputs": [
    {
     "name": "stdout",
     "output_type": "stream",
     "text": [
      "Pay:  209.0\n"
     ]
    }
   ],
   "source": [
    "hrs = input(\"Enter Hours:\")\n",
    "f_h = int(hrs)\n",
    "final_hours2 =float(f_h)\n",
    "pay = 2.75 * final_hours2\n",
    "print(\"Pay: \", pay)"
   ]
  }
 ],
 "metadata": {
  "kernelspec": {
   "display_name": "Python 3",
   "language": "python",
   "name": "python3"
  },
  "language_info": {
   "codemirror_mode": {
    "name": "ipython",
    "version": 3
   },
   "file_extension": ".py",
   "mimetype": "text/x-python",
   "name": "python",
   "nbconvert_exporter": "python",
   "pygments_lexer": "ipython3",
   "version": "3.11.1"
  },
  "orig_nbformat": 4,
  "vscode": {
   "interpreter": {
    "hash": "2eda06f8fe6fb7abb511cc6e50ffbf584d0540cd226e02af9b351e301191bb81"
   }
  }
 },
 "nbformat": 4,
 "nbformat_minor": 2
}
