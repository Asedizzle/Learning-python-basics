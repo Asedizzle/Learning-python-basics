{
 "cells": [
  {
   "cell_type": "code",
   "execution_count": 6,
   "metadata": {},
   "outputs": [
    {
     "name": "stdout",
     "output_type": "stream",
     "text": [
      "Aseda Rocks Rocks Rocks Rocks Rocks \n",
      "Aseda Rocks Rocks Rocks Rocks Rocks \n",
      "Aseda Rocks Rocks Rocks Rocks Rocks \n",
      "Aseda Rocks Rocks Rocks Rocks Rocks \n",
      "Aseda Rocks Rocks Rocks Rocks Rocks \n",
      "Aseda Rocks Rocks Rocks Rocks Rocks \n"
     ]
    }
   ],
   "source": [
    "i = 0\n",
    "while i <=5:\n",
    "    print(\"Aseda \" , end=\"\")\n",
    "    j = 5\n",
    "    while j >=1:\n",
    "        print(\"Rocks \" , end=\"\")\n",
    "        j = j - 1\n",
    "    i = i + 1\n",
    "    print()"
   ]
  },
  {
   "cell_type": "code",
   "execution_count": 2,
   "metadata": {},
   "outputs": [
    {
     "name": "stdout",
     "output_type": "stream",
     "text": [
      "Merry Christmas Kofi\n",
      "Merry Christmas Naa\n",
      "Merry Christmas Peggy\n",
      "Merry Christmas Kousei\n"
     ]
    }
   ],
   "source": [
    "persons = [\"Kofi\" , \"Naa\", \"Peggy\", \"Kousei\"]\n",
    "for person in persons:\n",
    "    print(\"Merry Christmas\" , person)"
   ]
  },
  {
   "cell_type": "code",
   "execution_count": 7,
   "metadata": {},
   "outputs": [
    {
     "name": "stdout",
     "output_type": "stream",
     "text": [
      "0\n",
      "2\n",
      "4\n",
      "6\n",
      "8\n",
      "10\n",
      "12\n",
      "14\n",
      "16\n",
      "18\n"
     ]
    }
   ],
   "source": [
    "for i in range(0,20,2):\n",
    "    print(i)"
   ]
  },
  {
   "cell_type": "code",
   "execution_count": null,
   "metadata": {},
   "outputs": [],
   "source": []
  }
 ],
 "metadata": {
  "kernelspec": {
   "display_name": "Python 3.11.0 64-bit",
   "language": "python",
   "name": "python3"
  },
  "language_info": {
   "codemirror_mode": {
    "name": "ipython",
    "version": 3
   },
   "file_extension": ".py",
   "mimetype": "text/x-python",
   "name": "python",
   "nbconvert_exporter": "python",
   "pygments_lexer": "ipython3",
   "version": "3.11.0 (main, Oct 24 2022, 18:26:48) [MSC v.1933 64 bit (AMD64)]"
  },
  "orig_nbformat": 4,
  "vscode": {
   "interpreter": {
    "hash": "75e8471d87e00636ba5a6da732d109ea2939ec337ebc809347bd7606d2472ad3"
   }
  }
 },
 "nbformat": 4,
 "nbformat_minor": 2
}
