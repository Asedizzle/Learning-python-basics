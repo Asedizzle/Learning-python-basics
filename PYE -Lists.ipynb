{
 "cells": [
  {
   "cell_type": "code",
   "execution_count": 13,
   "metadata": {},
   "outputs": [],
   "source": [
    "w = input(\"Please enter six numbers one after the other separated by a comma: \")\n",
    "k = w.split(\",\")\n",
    "print(k)\n",
    "\n",
    "n =[]\n",
    "for i in k:\n",
    "    n.append(int(i))\n",
    "print(n)"
   ]
  },
  {
   "cell_type": "code",
   "execution_count": 24,
   "metadata": {},
   "outputs": [
    {
     "name": "stdout",
     "output_type": "stream",
     "text": [
      "['1', '2', '3', '4', '5', '6']\n",
      "[1, 2, 3, 4, 5, 6]\n",
      "[1, 2, 35, 4, 5, 6]\n"
     ]
    }
   ],
   "source": [
    "w = input(\"Please type six numbers: \")\n",
    "k = w.split(\",\")\n",
    "print(k)\n",
    "n =[]\n",
    "for i in k:\n",
    "    n.append(int(i))\n",
    "print(n)\n",
    "\n",
    "n[2] = 35\n",
    "print(n)"
   ]
  },
  {
   "cell_type": "code",
   "execution_count": 21,
   "metadata": {},
   "outputs": [
    {
     "name": "stdout",
     "output_type": "stream",
     "text": [
      "2022\n",
      "tins you will be hundred in 2120\n"
     ]
    }
   ],
   "source": [
    "#Program that takes how old they are, and tells them when they will be hundred\n",
    "import datetime\n",
    "\n",
    "curr = datetime.date.today().year\n",
    "print(curr)\n",
    "\n",
    "current_year = curr\n",
    "your_name = input(\"Please enter your name: \")\n",
    "your_age = input(\"Please enter your age: \")\n",
    "n = int(your_age)\n",
    "years_to_be_hundred = 100 - n\n",
    "p = current_year + years_to_be_hundred\n",
    "print(your_name, \"you will be hundred in\",p,)"
   ]
  },
  {
   "cell_type": "code",
   "execution_count": 27,
   "metadata": {},
   "outputs": [
    {
     "name": "stdout",
     "output_type": "stream",
     "text": [
      "Happy new year Big Joe\n",
      "Happy new year Cecil\n",
      "Happy new year Franie\n"
     ]
    }
   ],
   "source": [
    "#A tale of two loops, this loops plays like a normal for loop but it's importance is seen later\n",
    "friends = [\"Big Joe\", \"Cecil\", \"Franie\"]\n",
    "for i in range(len(friends)):\n",
    "    friend = friends[i]\n",
    "    print(\"Happy new year\", friend)\n",
    "    "
   ]
  },
  {
   "cell_type": "code",
   "execution_count": 28,
   "metadata": {},
   "outputs": [
    {
     "name": "stdout",
     "output_type": "stream",
     "text": [
      "mint chosen\n",
      "chocolate chosen\n",
      "vanilla chosen\n"
     ]
    }
   ],
   "source": [
    "#A tale of two loops\n",
    "icecream = [\"mint\", \"chocolate\", \"vanilla\"]\n",
    "for i in range(len(icecream)):\n",
    "    flavour = icecream[i]\n",
    "    print(flavour + \" chosen\")"
   ]
  },
  {
   "cell_type": "code",
   "execution_count": 31,
   "metadata": {},
   "outputs": [
    {
     "name": "stdout",
     "output_type": "stream",
     "text": [
      "2\n",
      "2wallet\n"
     ]
    }
   ],
   "source": [
    "a = 2\n",
    "w = str(a)\n",
    "print(w)\n",
    "b = \"wallet\"\n",
    "print(w+b)"
   ]
  },
  {
   "cell_type": "code",
   "execution_count": 33,
   "metadata": {},
   "outputs": [
    {
     "name": "stdout",
     "output_type": "stream",
     "text": [
      "[2, 3, 4, 5, 6, 7]\n"
     ]
    }
   ],
   "source": [
    " #Concatenating lists with plus(+)\n",
    "a =[2,3,4]\n",
    "b = [5,6,7]\n",
    "c = a+b\n",
    "print(c)"
   ]
  },
  {
   "cell_type": "code",
   "execution_count": 37,
   "metadata": {},
   "outputs": [
    {
     "name": "stdout",
     "output_type": "stream",
     "text": [
      "[5, 7, 9]\n",
      "[2, 5, 7, 9, 3, 5]\n",
      "[7, 9, 3, 5, 7]\n"
     ]
    }
   ],
   "source": [
    "#List slicing\n",
    "p = [2,5,7,9,3,5,7,]\n",
    "w = p[1:4]\n",
    "print(w)\n",
    "a = p[:6]\n",
    "print(a)\n",
    "b = p[2:]\n",
    "print(b)"
   ]
  },
  {
   "cell_type": "code",
   "execution_count": 38,
   "metadata": {},
   "outputs": [
    {
     "name": "stdout",
     "output_type": "stream",
     "text": [
      "['Sally', 'Jeremy']\n"
     ]
    }
   ],
   "source": [
    "w = [\"Sally\", \"Jeremy\", \"Dina\",\"Albie\", \"Tina\"]\n",
    "t = w[0:2]\n",
    "print(t)\n"
   ]
  },
  {
   "cell_type": "code",
   "execution_count": 48,
   "metadata": {},
   "outputs": [
    {
     "name": "stdout",
     "output_type": "stream",
     "text": [
      "['book']\n",
      "['book', 'icecream']\n",
      "['book', 'icecream', 'watermelon']\n"
     ]
    }
   ],
   "source": [
    "#adding stuff to a list using .append\n",
    "a = list()\n",
    "a.append(\"book\")\n",
    "print(a)\n",
    "a.append(\"icecream\")\n",
    "print(a)\n",
    "w = input(\"Please type a fruit\")\n",
    "\n",
    "a.append(w)\n",
    "print(a)"
   ]
  },
  {
   "cell_type": "code",
   "execution_count": 51,
   "metadata": {},
   "outputs": [
    {
     "data": {
      "text/plain": [
       "False"
      ]
     },
     "execution_count": 51,
     "metadata": {},
     "output_type": "execute_result"
    }
   ],
   "source": [
    "#Is something in a list\n",
    "\n",
    "j = [2,4,6,8,10]\n",
    "2 in j\n",
    "1 in j"
   ]
  },
  {
   "cell_type": "code",
   "execution_count": 56,
   "metadata": {},
   "outputs": [
    {
     "name": "stdout",
     "output_type": "stream",
     "text": [
      "[1, 2, 3, 4]\n",
      "current smallest number = 1\n"
     ]
    }
   ],
   "source": [
    "\n",
    "k = input(\"Please type a list of numbers separated by a comma: \")\n",
    "k = k.split(\",\")\n",
    "t =[]\n",
    "for i in k:\n",
    "      k = t.append(int(i))\n",
    "print(t)\n",
    "\n",
    "curr_small_number = t[0]\n",
    "for i in t:\n",
    "    if i < curr_small_number:\n",
    "        curr_small_number = i\n",
    "print(\"current smallest number =\", curr_small_number)\n",
    "     "
   ]
  },
  {
   "cell_type": "code",
   "execution_count": 59,
   "metadata": {},
   "outputs": [
    {
     "name": "stdout",
     "output_type": "stream",
     "text": [
      "GIFTED\n"
     ]
    }
   ],
   "source": [
    "a = \"gifted\"\n",
    "a = a.upper()\n",
    "print(a)"
   ]
  },
  {
   "cell_type": "code",
   "execution_count": 65,
   "metadata": {},
   "outputs": [
    {
     "name": "stdout",
     "output_type": "stream",
     "text": [
      "['Bugatti', 'Ferarri', 'Honda', 'Hyunda', 'Tesla', 'Toyata']\n"
     ]
    }
   ],
   "source": [
    "#Sorts a list into alphabetical order\n",
    "cars = [\"Toyata\", \"Tesla\", \"Honda\", \"Hyunda\", \"Ferarri\", \"Bugatti\"]\n",
    "cars.sort() #For some reason it doesn't work when put in a variable\n",
    "print(cars)\n",
    "\n",
    "\n",
    "\n"
   ]
  },
  {
   "cell_type": "code",
   "execution_count": 69,
   "metadata": {},
   "outputs": [
    {
     "name": "stdout",
     "output_type": "stream",
     "text": [
      "6\n",
      "235\n",
      "90\n",
      "4\n",
      "39.166666666666664\n"
     ]
    }
   ],
   "source": [
    "#Built-in functions, like max, min\n",
    "nums = [4,56,8,90,21,56]\n",
    "print(len(nums))\n",
    "print(sum(nums))\n",
    "w = max(nums)\n",
    "print(w)\n",
    "\n",
    "n = min(nums)\n",
    "print(n)\n",
    "\n",
    "avg = sum(nums) / len(nums)\n",
    "print(avg)"
   ]
  },
  {
   "cell_type": "code",
   "execution_count": 5,
   "metadata": {},
   "outputs": [
    {
     "name": "stdout",
     "output_type": "stream",
     "text": [
      "['1', '2', '3', '4', '5', '6']\n",
      "[1, 2, 3, 4, 5, 6]\n"
     ]
    }
   ],
   "source": [
    "w = input('Please enter six: ')\n",
    "m = w.split(\",\")\n",
    "print(m)\n",
    "\n",
    "n = []\n",
    "for i in m:\n",
    "    n.append(int(i))\n",
    "print(n)"
   ]
  },
  {
   "cell_type": "code",
   "execution_count": 25,
   "metadata": {},
   "outputs": [
    {
     "name": "stdout",
     "output_type": "stream",
     "text": [
      "average =  4.25\n"
     ]
    }
   ],
   "source": [
    "#code that finds the average of input numbers\n",
    "\n",
    "\n",
    "total = 0\n",
    "count = 0\n",
    "\n",
    "while True:\n",
    "    j = input(\"Please enter number: \")\n",
    "    if j == \"done\" : break\n",
    "    i = int(j)\n",
    "    total = total + i\n",
    "    count = count + 1\n",
    "average = (total/count)\n",
    "print(\"average = \", average)\n",
    "    \n",
    "\n",
    "    \n",
    "\n",
    "    \n",
    "    "
   ]
  },
  {
   "cell_type": "code",
   "execution_count": 29,
   "metadata": {},
   "outputs": [
    {
     "name": "stdout",
     "output_type": "stream",
     "text": [
      "average = 51.285714285714285\n"
     ]
    }
   ],
   "source": [
    "total = 0\n",
    "count = 0\n",
    "\n",
    "while True:\n",
    "   j = input(\"Please type a number:\")\n",
    "   if j == \"done\" : break\n",
    "   w = int(j)\n",
    "   total = total + w\n",
    "   count = count + 1\n",
    "\n",
    "average = (total/count)\n",
    "print(\"average =\" , average )\n"
   ]
  },
  {
   "cell_type": "code",
   "execution_count": 37,
   "metadata": {},
   "outputs": [
    {
     "name": "stdout",
     "output_type": "stream",
     "text": [
      "[23, 45, 67, 8, 9]\n",
      "AVERAGE IS 1.8\n"
     ]
    }
   ],
   "source": [
    "y = []\n",
    "total = 0\n",
    "count = 0\n",
    "\n",
    "while True:\n",
    "    j = input(\"please enter a number: \")\n",
    "    if j == \"done\" : break\n",
    "    y.append(int(j))\n",
    "print(y)\n",
    "\n",
    "for i in y:\n",
    "    total = 0 + i\n",
    "    count = count +1\n",
    "average = (total/count)\n",
    "print(\"AVERAGE IS\" , average)\n",
    "    "
   ]
  },
  {
   "cell_type": "code",
   "execution_count": 7,
   "metadata": {},
   "outputs": [
    {
     "name": "stdout",
     "output_type": "stream",
     "text": [
      "['A', 'couple', 'of', 'words']\n",
      "A\n",
      "couple\n",
      "of\n",
      "words\n",
      "['IamagirlcalledAseda']\n"
     ]
    }
   ],
   "source": [
    "r = \"A couple of words\"\n",
    "n = r.split()\n",
    "print(n)\n",
    "for i in n:\n",
    "    print(i)\n",
    "    \n",
    "\"\"\"Split usually splits on spaces but you can specify what to split on(\",\") - this splits on. If there are no space split wont work\"\"\"\n",
    "\n",
    "l = \"IamagirlcalledAseda\"\n",
    "here = l.split()\n",
    "print(here)"
   ]
  },
  {
   "cell_type": "code",
   "execution_count": 12,
   "metadata": {},
   "outputs": [
    {
     "name": "stdout",
     "output_type": "stream",
     "text": [
      "From :amartinson@st.ug.edu.gh on 21st December, 2022.\n"
     ]
    },
    {
     "data": {
      "text/plain": [
       "'\\n    words = line.split()\\n    print(words[1:4])\\n    \\n    '"
      ]
     },
     "execution_count": 12,
     "metadata": {},
     "output_type": "execute_result"
    }
   ],
   "source": [
    "r = open(\"lll.txt\")\n",
    "for line in r:\n",
    "    if line.startswith(\"From \"):\n",
    "        print(line)\n",
    "\n",
    "\n",
    "\n",
    "\"\"\"\n",
    "    words = line.split()\n",
    "    print(words[1:4])\n",
    "    \n",
    "    \"\"\""
   ]
  }
 ],
 "metadata": {
  "kernelspec": {
   "display_name": "Python 3",
   "language": "python",
   "name": "python3"
  },
  "language_info": {
   "codemirror_mode": {
    "name": "ipython",
    "version": 3
   },
   "file_extension": ".py",
   "mimetype": "text/x-python",
   "name": "python",
   "nbconvert_exporter": "python",
   "pygments_lexer": "ipython3",
   "version": "3.11.1"
  },
  "orig_nbformat": 4,
  "vscode": {
   "interpreter": {
    "hash": "75e8471d87e00636ba5a6da732d109ea2939ec337ebc809347bd7606d2472ad3"
   }
  }
 },
 "nbformat": 4,
 "nbformat_minor": 2
}
