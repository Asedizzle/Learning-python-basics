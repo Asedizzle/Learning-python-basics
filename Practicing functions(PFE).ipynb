{
 "cells": [
  {
   "cell_type": "code",
   "execution_count": 45,
   "metadata": {},
   "outputs": [
    {
     "name": "stdout",
     "output_type": "stream",
     "text": [
      "('hola', 'bread')\n"
     ]
    }
   ],
   "source": [
    "\n",
    "\n",
    "def greet(lang, your_name):\n",
    "    if lang ==\"spanish\":\n",
    "        return \"hola\" , your_name\n",
    "    elif lang == \"french\":\n",
    "        return \"Bonjour\" , your_name\n",
    "    else:\n",
    "        return \"hello\" , your_name\n",
    "    \n",
    "\n",
    "        \n",
    "\n",
    "    \n",
    "your_lang = greet( input(\"Type your language here: \") , input(\"Type your name here: \") )\n",
    "print(your_lang)\n"
   ]
  },
  {
   "cell_type": "code",
   "execution_count": 4,
   "metadata": {},
   "outputs": [
    {
     "name": "stdout",
     "output_type": "stream",
     "text": [
      "Bonjour  Abena\n",
      "None\n"
     ]
    }
   ],
   "source": [
    "def greet(name, lang):\n",
    "    if lang == \"french\":\n",
    "        print(\"Bonjour \", name)\n",
    "    elif lang == \"spanish\":\n",
    "        print(\"Hola\", name)\n",
    "    else:\n",
    "        print(\"ciao\" , name)\n",
    "        \n",
    "your_greet = greet(input(\"Please type your name\") , input(\"Please type your lang\"))\n",
    "print(your_greet)"
   ]
  },
  {
   "cell_type": "code",
   "execution_count": 41,
   "metadata": {},
   "outputs": [
    {
     "name": "stdout",
     "output_type": "stream",
     "text": [
      "hola , Prof.Martinson\n"
     ]
    }
   ],
   "source": [
    "your_name =  input(\"Type your name here: \")\n",
    "\n",
    "def greet(lang):\n",
    "    if lang ==\"spanish\":\n",
    "        return \"hola\"\n",
    "    elif lang == \"french\":\n",
    "        return \"Bonjour\"\n",
    "    else:\n",
    "        return \"hello\" \n",
    "    \n",
    "\n",
    "        \n",
    "\n",
    "    \n",
    "your_lang = greet(input(\"Type your language here: \"))\n",
    "print(your_lang , \",\" , your_name )"
   ]
  }
 ],
 "metadata": {
  "kernelspec": {
   "display_name": "Python 3",
   "language": "python",
   "name": "python3"
  },
  "language_info": {
   "codemirror_mode": {
    "name": "ipython",
    "version": 3
   },
   "file_extension": ".py",
   "mimetype": "text/x-python",
   "name": "python",
   "nbconvert_exporter": "python",
   "pygments_lexer": "ipython3",
   "version": "3.11.1"
  },
  "orig_nbformat": 4,
  "vscode": {
   "interpreter": {
    "hash": "2eda06f8fe6fb7abb511cc6e50ffbf584d0540cd226e02af9b351e301191bb81"
   }
  }
 },
 "nbformat": 4,
 "nbformat_minor": 2
}
