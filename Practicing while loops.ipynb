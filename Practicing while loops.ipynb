{
 "cells": [
  {
   "cell_type": "code",
   "execution_count": 1,
   "metadata": {},
   "outputs": [
    {
     "name": "stdout",
     "output_type": "stream",
     "text": [
      "Aseda Rocks Rocks Rocks Rocks Rocks \n",
      "Aseda Rocks Rocks Rocks Rocks Rocks \n",
      "Aseda Rocks Rocks Rocks Rocks Rocks \n",
      "Aseda Rocks Rocks Rocks Rocks Rocks \n",
      "Aseda Rocks Rocks Rocks Rocks Rocks \n"
     ]
    }
   ],
   "source": [
    "i = 1\n",
    "while i < 6:\n",
    "    print(\"Aseda \" , end=\"\" )\n",
    "    j = 5\n",
    "    while j >= 1:\n",
    "        print( \"Rocks \", end=\"\")\n",
    "        j = j-1\n",
    "    i = i+1\n",
    "    print() "
   ]
  },
  {
   "cell_type": "code",
   "execution_count": 20,
   "metadata": {},
   "outputs": [
    {
     "name": "stdout",
     "output_type": "stream",
     "text": [
      "Kofi is cute .....\n",
      "Kofi is cute .....\n",
      "Kofi is cute .....\n",
      "Kofi is cute .....\n",
      "Kofi is cute .....\n",
      "Kofi is cute .....\n"
     ]
    }
   ],
   "source": [
    "i = 10\n",
    "while i>=5:\n",
    "    print(\"Kofi is cute \", end=\"\")\n",
    "    j = 8\n",
    "    while j>=4:\n",
    "        print(\".\", end=\"\")\n",
    "        j = j-1\n",
    "    i = i-1\n",
    "    print()\n"
   ]
  },
  {
   "cell_type": "code",
   "execution_count": 26,
   "metadata": {},
   "outputs": [
    {
     "name": "stdout",
     "output_type": "stream",
     "text": [
      "Yaw is a math genius and he's really cute too....\n",
      "Yaw is a math genius and he's really cute too....\n",
      "Yaw is a math genius and he's really cute too....\n",
      "Yaw is a math genius and he's really cute too....\n"
     ]
    }
   ],
   "source": [
    "i = 7\n",
    "while i>=4:\n",
    "    print(\"Yaw is a math genius and he's really cute too\", end=\"\")\n",
    "    j = 1\n",
    "    while j < 5:\n",
    "        print(\".\", end =\"\")\n",
    "        j=j+1\n",
    "    i = i-1\n",
    "    print()"
   ]
  },
  {
   "cell_type": "code",
   "execution_count": 6,
   "metadata": {},
   "outputs": [
    {
     "name": "stdout",
     "output_type": "stream",
     "text": [
      "2\n",
      "4\n",
      "6\n",
      "8\n",
      "10\n"
     ]
    }
   ],
   "source": [
    "i=2\n",
    "while i<=10:\n",
    "    print( i,)\n",
    "    i = i+2\n",
    "    \n"
   ]
  },
  {
   "cell_type": "code",
   "execution_count": 10,
   "metadata": {},
   "outputs": [
    {
     "name": "stdout",
     "output_type": "stream",
     "text": [
      "First 10 odd numbers = \n",
      "1\n",
      "3\n",
      "5\n",
      "7\n",
      "9\n",
      "11\n",
      "13\n",
      "15\n",
      "17\n",
      "19\n"
     ]
    }
   ],
   "source": [
    " print( \"First 10 odd numbers = \")\n",
    "i=1\n",
    "while i<20:\n",
    "    print(i)\n",
    "    i = i+2"
   ]
  },
  {
   "cell_type": "code",
   "execution_count": 8,
   "metadata": {},
   "outputs": [
    {
     "name": "stdout",
     "output_type": "stream",
     "text": [
      "105\n",
      "98\n",
      "91\n",
      "84\n",
      "77\n",
      "70\n",
      "63\n",
      "56\n",
      "49\n",
      "42\n",
      "35\n",
      "28\n",
      "21\n",
      "14\n",
      "7\n"
     ]
    }
   ],
   "source": [
    "i =105\n",
    "while i>=7:\n",
    "    print(i)\n",
    "    i = i-7"
   ]
  },
  {
   "cell_type": "code",
   "execution_count": 13,
   "metadata": {},
   "outputs": [
    {
     "name": "stdout",
     "output_type": "stream",
     "text": [
      "yaay me me me \n",
      "yaay me me me \n",
      "yaay me me me \n"
     ]
    }
   ],
   "source": [
    "i=10\n",
    "while i>=8:\n",
    "    print (\"yaay \" , end=\"\")\n",
    "    j = 0\n",
    "    while j<=2:\n",
    "        print(\"me \" , end=\"\")\n",
    "        j = j+1\n",
    "    i = i-1\n",
    "    print()"
   ]
  },
  {
   "cell_type": "code",
   "execution_count": 15,
   "metadata": {},
   "outputs": [
    {
     "name": "stdout",
     "output_type": "stream",
     "text": [
      "0 0\n",
      "1 1\n",
      "2 4\n",
      "3 9\n",
      "4 16\n",
      "5 25\n",
      "6 36\n",
      "7 49\n",
      "8 64\n",
      "9 81\n",
      "10 100\n"
     ]
    }
   ],
   "source": [
    "i=0\n",
    "while i <=10:\n",
    "    print(i, i**2)\n",
    "    i = i+1"
   ]
  },
  {
   "cell_type": "code",
   "execution_count": 18,
   "metadata": {},
   "outputs": [
    {
     "name": "stdout",
     "output_type": "stream",
     "text": [
      "10\n",
      "9\n",
      "8\n",
      "7\n",
      "6\n",
      "5\n",
      "4\n",
      "3\n",
      "2\n",
      "1\n"
     ]
    }
   ],
   "source": [
    "i=10\n",
    "while i>=1:\n",
    "    print(i)\n",
    "    i=i-1"
   ]
  },
  {
   "cell_type": "code",
   "execution_count": 21,
   "metadata": {},
   "outputs": [
    {
     "name": "stdout",
     "output_type": "stream",
     "text": [
      "0\n",
      "2\n",
      "6\n",
      "12\n",
      "20\n",
      "30\n",
      "42\n",
      "56\n",
      "72\n",
      "90\n",
      "110\n"
     ]
    }
   ],
   "source": [
    "i=0\n",
    "j =0\n",
    "while i<=20:\n",
    "    j = j+i\n",
    "    i=i+2\n",
    "    print(j)"
   ]
  },
  {
   "cell_type": "code",
   "execution_count": 28,
   "metadata": {},
   "outputs": [
    {
     "name": "stdout",
     "output_type": "stream",
     "text": [
      "Youre doing great ...\n",
      "Youre doing great ...\n",
      "Youre doing great ...\n"
     ]
    }
   ],
   "source": [
    "i = 10\n",
    "while i>=5:\n",
    "    print(\"Youre doing great \", end=\"\")\n",
    "    j = 1\n",
    "    while j <=3:\n",
    "        print('.', end=\"\")\n",
    "        j=j+1\n",
    "        \n",
    "    i = i-2\n",
    "    print()"
   ]
  },
  {
   "cell_type": "code",
   "execution_count": 10,
   "metadata": {},
   "outputs": [
    {
     "name": "stdout",
     "output_type": "stream",
     "text": [
      "WOW girl girl girl girl girl girl \n",
      "WOW girl girl girl girl girl girl \n",
      "WOW girl girl girl girl girl girl \n",
      "WOW girl girl girl girl girl girl \n",
      "WOW girl girl girl girl girl girl \n",
      "WOW girl girl girl girl girl girl \n",
      "WOW girl girl girl girl girl girl \n",
      "WOW girl girl girl girl girl girl \n",
      "WOW girl girl girl girl girl girl \n",
      "WOW girl girl girl girl girl girl \n",
      "WOW girl girl girl girl girl girl \n"
     ]
    }
   ],
   "source": [
    "i = 0\n",
    "while i <=10:\n",
    "    print('WOW ', end=\"\")\n",
    "    j = 12\n",
    "    while j >=7:\n",
    "        print(\"girl \", end=\"\")\n",
    "        j= j-1\n",
    "    i = i+1\n",
    "    print()\n",
    "    \n",
    "        \n"
   ]
  }
 ],
 "metadata": {
  "kernelspec": {
   "display_name": "Python 3",
   "language": "python",
   "name": "python3"
  },
  "language_info": {
   "codemirror_mode": {
    "name": "ipython",
    "version": 3
   },
   "file_extension": ".py",
   "mimetype": "text/x-python",
   "name": "python",
   "nbconvert_exporter": "python",
   "pygments_lexer": "ipython3",
   "version": "3.11.1"
  },
  "orig_nbformat": 4,
  "vscode": {
   "interpreter": {
    "hash": "2eda06f8fe6fb7abb511cc6e50ffbf584d0540cd226e02af9b351e301191bb81"
   }
  }
 },
 "nbformat": 4,
 "nbformat_minor": 2
}
