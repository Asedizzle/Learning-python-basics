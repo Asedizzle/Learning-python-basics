{
 "cells": [
  {
   "cell_type": "code",
   "execution_count": 5,
   "metadata": {},
   "outputs": [
    {
     "name": "stdout",
     "output_type": "stream",
     "text": [
      "6\n"
     ]
    },
    {
     "ename": "AttributeError",
     "evalue": "'tuple' object has no attribute 'append'",
     "output_type": "error",
     "traceback": [
      "\u001b[1;31m---------------------------------------------------------------------------\u001b[0m",
      "\u001b[1;31mAttributeError\u001b[0m                            Traceback (most recent call last)",
      "Cell \u001b[1;32mIn [5], line 6\u001b[0m\n\u001b[0;32m      3\u001b[0m \u001b[39mprint\u001b[39m(y[\u001b[39m2\u001b[39m])\n\u001b[0;32m      4\u001b[0m \u001b[39m#A tuple cannot be changed so you cant append or re-assign values\u001b[39;00m\n\u001b[0;32m      5\u001b[0m \u001b[39m#y[2] = 6 \u001b[39;00m\n\u001b[1;32m----> 6\u001b[0m y\u001b[39m.\u001b[39;49mappend(\u001b[39m\"\u001b[39m\u001b[39m7\u001b[39m\u001b[39m\"\u001b[39m)\n\u001b[0;32m      7\u001b[0m \u001b[39m# #The error thrown here is proof\u001b[39;00m\n\u001b[0;32m      9\u001b[0m \u001b[39mprint\u001b[39m(\u001b[39mtype\u001b[39m(y))\n",
      "\u001b[1;31mAttributeError\u001b[0m: 'tuple' object has no attribute 'append'"
     ]
    }
   ],
   "source": [
    "#A lot like lists buut immutable just like strings\n",
    "y = (2,4,6,7)\n",
    "print(y[2])\n",
    "#A tuple cannot be changed so you cant append or re-assign values\n",
    "#y[2] = 6 \n",
    "#y.append(\"7\")\n",
    "# #The error thrown here is proof\n",
    "\n",
    "print(type(y))"
   ]
  },
  {
   "cell_type": "code",
   "execution_count": 1,
   "metadata": {},
   "outputs": [
    {
     "name": "stdout",
     "output_type": "stream",
     "text": [
      "Jay\n"
     ]
    }
   ],
   "source": [
    "#Code that shows how tuples can use left-hand assignment for a lot at once\n",
    "(x,y,z) = (3, 5, \"Jay\")\n",
    "print(z)"
   ]
  },
  {
   "cell_type": "code",
   "execution_count": 3,
   "metadata": {},
   "outputs": [
    {
     "name": "stdout",
     "output_type": "stream",
     "text": [
      "Ama 2\n",
      "Akosua 6\n",
      "Kweku 4\n",
      "dict_items([('Ama', 2), ('Akosua', 6), ('Kweku', 4)])\n"
     ]
    }
   ],
   "source": [
    "#Showing that tuples look like a dictionary\n",
    "p = {}\n",
    "p[\"Ama\"] = 2\n",
    "p[\"Akosua\"] = 6\n",
    "p[\"Kweku\"] = 4\n",
    "\n",
    "for k,v in p.items():\n",
    "    print(k,v)\n",
    "    \n",
    "l = p.items()\n",
    "print((l))\n"
   ]
  },
  {
   "cell_type": "code",
   "execution_count": 2,
   "metadata": {},
   "outputs": [
    {
     "name": "stdout",
     "output_type": "stream",
     "text": [
      "[(6, 'Akosua'), (4, 'Kweku'), (2, 'Ama')]\n"
     ]
    }
   ],
   "source": [
    "p = {}\n",
    "p[\"Ama\"] = 2\n",
    "p[\"Akosua\"] = 6\n",
    "p[\"Kweku\"] = 4\n",
    "\n",
    "w = sorted([(v,k) for (k,v) in p.items()], reverse=True)\n",
    "print(w)"
   ]
  },
  {
   "cell_type": "code",
   "execution_count": 2,
   "metadata": {},
   "outputs": [
    {
     "name": "stdout",
     "output_type": "stream",
     "text": [
      "1 uno\n",
      "2 due\n",
      "3 trois\n"
     ]
    }
   ],
   "source": [
    "dict_22  = {}\n",
    "dict_22[\"uno\"] = 1\n",
    "dict_22[\"due\"] = 2\n",
    "dict_22[\"trois\"] = 3\n",
    "\n",
    "for k,v in dict_22.items():\n",
    "    print(v,k)"
   ]
  },
  {
   "cell_type": "code",
   "execution_count": 4,
   "metadata": {},
   "outputs": [
    {
     "data": {
      "text/plain": [
       "False"
      ]
     },
     "execution_count": 4,
     "metadata": {},
     "output_type": "execute_result"
    }
   ],
   "source": [
    "#Tuples are comparable. Comparism is left to right and if at one point what Tuple A has is bigger(or smaller) than Tuple B then it makes it win , without cosidering the rest\n",
    "#For strings this is a lexigraphical comparism. SCANS TILL IT HAS AN ANSWER DOESNT SCAN FURTHER\n",
    "(2,8,9) > (10,4,5) #it will print false\n",
    "\n",
    "(\"Ama\", \"John\") > (\"Amoah\", \"Johnny\") #It will print true"
   ]
  },
  {
   "cell_type": "code",
   "execution_count": 3,
   "metadata": {},
   "outputs": [
    {
     "name": "stdout",
     "output_type": "stream",
     "text": [
      "[('a', 10), ('b', 7), ('c', 9)]\n",
      "a 10\n",
      "b 7\n",
      "c 9\n"
     ]
    }
   ],
   "source": [
    "#Sorting Lists of tuples. Can work by getting tuples in dic(), putting them in a list and then sorting.(In strings it's lexigraphical, for numbers well ukn)\n",
    "d = {\"a\" : 10, \"b\" : 7, \"c\":9}\n",
    "d.items()\n",
    "print(sorted(d.items())) #Sorts the tuples in the list of key,value(items) funnily it will probably never get to keys unless values are the same throughout\n",
    "for k,v in sorted(d.items()):\n",
    "    print(k,v)"
   ]
  },
  {
   "cell_type": "code",
   "execution_count": 2,
   "metadata": {},
   "outputs": [
    {
     "name": "stdout",
     "output_type": "stream",
     "text": [
      "[(10, 'a'), (9, 'c'), (7, 'b')]\n"
     ]
    }
   ],
   "source": [
    "d = {\"a\" : 10, \"b\" : 7, \"c\":9}\n",
    "w = sorted([(v,k) for k,v in d.items()], reverse=True)\n",
    "print(w)"
   ]
  },
  {
   "cell_type": "code",
   "execution_count": 22,
   "metadata": {},
   "outputs": [
    {
     "name": "stdout",
     "output_type": "stream",
     "text": [
      "[(10, 'a'), (7, 'b'), (9, 'c')]\n",
      "[(7, 'b'), (9, 'c'), (10, 'a')]\n"
     ]
    }
   ],
   "source": [
    "#Sorting Lists of tuples. Can work by getting tuples in dic(). Trying to sort according to values\n",
    "b = []\n",
    "d = {\"a\" : 10, \"b\" : 7, \"c\":9}\n",
    "for k,v in d.items():\n",
    "    b.append((v,k)) #Notice how to append an entire tuple don't forget the brackets\n",
    "print(b)\n",
    "k = sorted(b)\n",
    "print(k)"
   ]
  },
  {
   "cell_type": "code",
   "execution_count": 24,
   "metadata": {},
   "outputs": [
    {
     "name": "stdout",
     "output_type": "stream",
     "text": [
      "[(10, 'a'), (7, 'b'), (9, 'c')]\n",
      "[(10, 'a'), (9, 'c'), (7, 'b')]\n"
     ]
    }
   ],
   "source": [
    "#To get a descending sort, Reverse=True\n",
    "d = {\"a\" : 10, \"b\" : 7, \"c\":9}\n",
    "r = []\n",
    "for k,v in d.items():\n",
    "    r.append((v,k))\n",
    "print(r)\n",
    "w = sorted(r, reverse=True)\n",
    "print(w)"
   ]
  },
  {
   "cell_type": "code",
   "execution_count": 30,
   "metadata": {},
   "outputs": [
    {
     "name": "stdout",
     "output_type": "stream",
     "text": [
      "{'There': 1, 'is': 2, 'just': 1, 'one': 1, 'line': 1, 'in': 1, 'this': 1, 'document': 2, 'so': 1, 'it': 1, 'a': 1, 'clown': 1}\n",
      "[(1, 'There'), (2, 'is'), (1, 'just'), (1, 'one'), (1, 'line'), (1, 'in'), (1, 'this'), (2, 'document'), (1, 'so'), (1, 'it'), (1, 'a'), (1, 'clown')]\n",
      "[(2, 'is'), (2, 'document'), (1, 'this'), (1, 'so'), (1, 'one'), (1, 'line'), (1, 'just'), (1, 'it'), (1, 'in'), (1, 'clown'), (1, 'a'), (1, 'There')]\n",
      "[('is', 2), ('document', 2), ('this', 1), ('so', 1), ('one', 1), ('line', 1), ('just', 1), ('it', 1), ('in', 1), ('clown', 1), ('a', 1), ('There', 1)]\n"
     ]
    }
   ],
   "source": [
    "k = input(\"Please enter the name of a file\")\n",
    "l = {}\n",
    "try:\n",
    "    fhand = open(k)\n",
    "except:\n",
    "    print(\"Please ensure the file name has been typed correctly\")\n",
    "    \n",
    "for line in fhand:\n",
    "    words = line.split()\n",
    "    for word in words:\n",
    "       l[word] = l.get(word, 0) + 1\n",
    "\n",
    "print(l)\n",
    "\n",
    "m = []\n",
    "for k,v in l.items():\n",
    "    j = (v,k)\n",
    "    m.append(j)\n",
    "print(m)\n",
    "rok = sorted(m, reverse=True)\n",
    "print(rok)\n",
    "  \n",
    "h = []  \n",
    "for (a,b) in rok:\n",
    "    j = (b,a)\n",
    "    h.append(j)\n",
    "    \n",
    "print(h)\n",
    "    "
   ]
  },
  {
   "cell_type": "code",
   "execution_count": 10,
   "metadata": {},
   "outputs": [
    {
     "name": "stdout",
     "output_type": "stream",
     "text": [
      "[(11, 'and'), (10, 'of'), (9, 'nutrition'), (8, 'is'), (7, 'et')]\n"
     ]
    }
   ],
   "source": [
    "#Code where a user inputs a file and gets a word dictionary, and proceeds to give a sorted list.\n",
    "User_file = input(\"Please enter file name\")\n",
    "try:\n",
    "    fhand = open(User_file)\n",
    "except:\n",
    "      print(\"Please enter file name correctly\")\n",
    "\n",
    "dict_33 = {}\n",
    "for line in fhand:\n",
    "    words = line.split()\n",
    "    #print(words)\n",
    "    for word in words:\n",
    "        dict_33[word] = dict_33.get(word,0) +1\n",
    "        \n",
    "#print(dict_33)\n",
    "\n",
    "m = sorted([(v,k) for k,v in dict_33.items()], reverse=True)\n",
    "#print(m)\n",
    "\n",
    "#To get 5 most common words\n",
    "\n",
    "x = m[:5]\n",
    "print(x)"
   ]
  },
  {
   "cell_type": "code",
   "execution_count": 11,
   "metadata": {},
   "outputs": [
    {
     "name": "stdout",
     "output_type": "stream",
     "text": [
      "{'There': 1, 'is': 2, 'just': 1, 'one': 1, 'line': 1, 'in': 1, 'this': 1, 'document': 2, 'so': 1, 'it': 1, 'a': 1, 'clown': 1}\n",
      "[(1, 'There'), (1, 'a'), (1, 'clown'), (1, 'in'), (1, 'it'), (1, 'just'), (1, 'line'), (1, 'one'), (1, 'so'), (1, 'this'), (2, 'document'), (2, 'is')]\n"
     ]
    }
   ],
   "source": [
    "fhand = open (\"Oneline.txt\", \"r\")\n",
    "l = {}\n",
    "for line in fhand:\n",
    "    words = line.split()\n",
    "    for word in words:\n",
    "        l[word] = l.get(word, 0) + 1\n",
    "\n",
    "print(l)\n",
    "\n",
    "\n",
    "p = (sorted([(v,k) for (k,v) in l.items()]))\n",
    "print(p)\n",
    "\n"
   ]
  },
  {
   "cell_type": "code",
   "execution_count": 22,
   "metadata": {},
   "outputs": [
    {
     "name": "stdout",
     "output_type": "stream",
     "text": [
      "[('and', 11), ('of', 10), ('nutrition', 9), ('is', 8), ('et', 7)]\n",
      "[(7, 'et'), (8, 'is'), (9, 'nutrition'), (10, 'of'), (11, 'and')]\n"
     ]
    }
   ],
   "source": [
    "#Code to get 5 most common words in the dictionary , so sort by values\n",
    "w = {}\n",
    "fhand = open(\"Sample1.txt\")\n",
    "for line in fhand:\n",
    "    words = line.split()\n",
    "    for word in words:\n",
    "        w[word] = w.get(word, 0) + 1\n",
    "#print(w)\n",
    "\n",
    "t = w.items()\n",
    "x = (sorted([(v,k) for k,v in t], reverse= True))\n",
    "h = [(v,k) for k,v in x]\n",
    "#print(h)\n",
    "final_ans = h[:5]\n",
    "print(final_ans)\n",
    "\n",
    "\n",
    "\n",
    "\"\"\"\n",
    "k = sorted([(v,k) for k,v in t])\n",
    "\n",
    "#print(k)\n",
    "final_ansB = k[-5:]\n",
    "print(final_ansB)\n",
    "\"\"\"    "
   ]
  },
  {
   "cell_type": "code",
   "execution_count": 27,
   "metadata": {},
   "outputs": [
    {
     "name": "stdout",
     "output_type": "stream",
     "text": [
      "From :amartinson@st.ug.edu.gh on 21st December, 2022.\n",
      "From :amartinson@st.ug.edu.gh on 21st December, 2022.\n"
     ]
    }
   ],
   "source": [
    "#Using regular expressions like re.search to do some find()\n",
    "fhand = open(\"lll.txt\")\n",
    "for line in fhand:\n",
    "    w = line.rstrip()\n",
    "    if line.find(\"From\") >= 0:\n",
    "        print(line)\n",
    "        \n",
    "#Similarly\n",
    "import re\n",
    "dhand = open(\"lll.txt\")\n",
    "for line in dhand:\n",
    "    k = line.rstrip()\n",
    "    if re.search(\"From\", line):\n",
    "        print(line)"
   ]
  },
  {
   "cell_type": "code",
   "execution_count": 12,
   "metadata": {},
   "outputs": [
    {
     "ename": "AttributeError",
     "evalue": "'builtin_function_or_method' object has no attribute 'startswith'",
     "output_type": "error",
     "traceback": [
      "\u001b[1;31m---------------------------------------------------------------------------\u001b[0m",
      "\u001b[1;31mAttributeError\u001b[0m                            Traceback (most recent call last)",
      "Cell \u001b[1;32mIn [12], line 5\u001b[0m\n\u001b[0;32m      3\u001b[0m \u001b[39mfor\u001b[39;00m line \u001b[39min\u001b[39;00m handle:\n\u001b[0;32m      4\u001b[0m     line \u001b[39m=\u001b[39m line\u001b[39m.\u001b[39mrstrip\n\u001b[1;32m----> 5\u001b[0m     \u001b[39mif\u001b[39;00m line\u001b[39m.\u001b[39;49mstartswith(\u001b[39m\"\u001b[39m\u001b[39mFrom\u001b[39m\u001b[39m\"\u001b[39m):\n\u001b[0;32m      6\u001b[0m         \u001b[39mprint\u001b[39m(line)\n\u001b[0;32m      8\u001b[0m \u001b[39mimport\u001b[39;00m \u001b[39mre\u001b[39;00m\n",
      "\u001b[1;31mAttributeError\u001b[0m: 'builtin_function_or_method' object has no attribute 'startswith'"
     ]
    }
   ],
   "source": [
    "#Usimg re.search like .startswith()\n",
    "handle = open(\"lll.txt\")\n",
    "for line in handle:\n",
    "    line = line.rstrip\n",
    "    if line.startswith(\"From\"):\n",
    "        print(line)\n",
    "        \n",
    "import re\n",
    "handle = open(\"lll.txt\")\n",
    "for line in handle:\n",
    "    line = line.rstrip\n",
    "    if re.search(\"^From\", line):\n",
    "        print(line)"
   ]
  },
  {
   "cell_type": "code",
   "execution_count": null,
   "metadata": {},
   "outputs": [],
   "source": []
  },
  {
   "cell_type": "code",
   "execution_count": 1,
   "metadata": {},
   "outputs": [
    {
     "name": "stdout",
     "output_type": "stream",
     "text": [
      "From :amartinson@st.ug.edu.gh on 21st December, 2022.\n"
     ]
    }
   ],
   "source": [
    "import re\n",
    "fhand = open(\"lll.txt\")\n",
    "for line in fhand:\n",
    "   if  re.search(\"^From\", line):\n",
    "       print(line)\n"
   ]
  }
 ],
 "metadata": {
  "kernelspec": {
   "display_name": "Python 3",
   "language": "python",
   "name": "python3"
  },
  "language_info": {
   "codemirror_mode": {
    "name": "ipython",
    "version": 3
   },
   "file_extension": ".py",
   "mimetype": "text/x-python",
   "name": "python",
   "nbconvert_exporter": "python",
   "pygments_lexer": "ipython3",
   "version": "3.11.1"
  },
  "orig_nbformat": 4,
  "vscode": {
   "interpreter": {
    "hash": "2eda06f8fe6fb7abb511cc6e50ffbf584d0540cd226e02af9b351e301191bb81"
   }
  }
 },
 "nbformat": 4,
 "nbformat_minor": 2
}
