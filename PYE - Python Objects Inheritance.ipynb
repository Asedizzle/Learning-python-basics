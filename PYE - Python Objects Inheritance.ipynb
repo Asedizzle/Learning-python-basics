{
 "cells": [
  {
   "cell_type": "code",
   "execution_count": 5,
   "metadata": {},
   "outputs": [
    {
     "name": "stdout",
     "output_type": "stream",
     "text": [
      "Class constucted Name Kallie\n",
      "Kallie time count 1\n"
     ]
    }
   ],
   "source": [
    "class Time:\n",
    "    x = 0\n",
    "    name=\"\"\n",
    "    \n",
    "    #constucting the class\n",
    "    \n",
    "    def __init__(self,y):\n",
    "        self.name = y\n",
    "        print(\"Class constucted\",\"Name\", self.name)\n",
    "    #creating a method\n",
    "    \n",
    "    def mins(self):\n",
    "        self.x = self.x+1\n",
    "        print(self.name, \"time count\", self.x)\n",
    "        \n",
    "#sapce class inherits class time\n",
    "class Space(Time):\n",
    "    area = 1\n",
    "    \n",
    "    #Defining a method\n",
    "    def squarefeet(self):\n",
    "        self.area = self.area + 7\n",
    "        print(\"Space occupied\", self.area)\n",
    "\n",
    "#If Time class is used  everything under time occurs, If space class is used both space and time occurs).\n",
    "R = Time(\"Kallie\")\n",
    "R.mins()\n",
    "\n"
   ]
  },
  {
   "cell_type": "code",
   "execution_count": 6,
   "metadata": {},
   "outputs": [
    {
     "name": "stdout",
     "output_type": "stream",
     "text": [
      "Class constucted Name Johnny\n",
      "Johnny time count 1\n",
      "Space occupied 8\n"
     ]
    }
   ],
   "source": [
    "t = Space(\"Johnny\")\n",
    "t.mins()\n",
    "t.squarefeet()"
   ]
  },
  {
   "attachments": {},
   "cell_type": "markdown",
   "metadata": {},
   "source": [
    "Inheritance in Object oriented programming, takes all the code in the inherited class and stuffs it into the new class. The new class becomes an extension(Old class + new class). In the code above the class Time is Inherited by the class space.\n",
    "\n",
    "Inheritance - The ability to extend a class to make a new class"
   ]
  }
 ],
 "metadata": {
  "kernelspec": {
   "display_name": "Python 3",
   "language": "python",
   "name": "python3"
  },
  "language_info": {
   "codemirror_mode": {
    "name": "ipython",
    "version": 3
   },
   "file_extension": ".py",
   "mimetype": "text/x-python",
   "name": "python",
   "nbconvert_exporter": "python",
   "pygments_lexer": "ipython3",
   "version": "3.11.1"
  },
  "orig_nbformat": 4
 },
 "nbformat": 4,
 "nbformat_minor": 2
}
