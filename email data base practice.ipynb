{
 "cells": [
  {
   "cell_type": "code",
   "execution_count": 1,
   "metadata": {},
   "outputs": [],
   "source": [
    "#Import sqlite\n",
    "import sqlite3\n",
    "\n",
    "#Create a sqlite database file\n",
    "conn = sqlite3.connect(\"emaildatabase.sqlite\")\n",
    "\n",
    "#Cursor connects to database its like a file handle but not quite, allows us to make sql queries and receive responses\n",
    "curr =conn.cursor()\n",
    "\n",
    "#DROP TABLE is a bit of sql IF EXISTS prevents line from blowing up If working with a new database(as we are now so this line does absolutely nothing).\n",
    "\n",
    "curr.execute('DROP TABLE IF EXISTS Counts')\n",
    "\n",
    "#CREATES table called Counts with two fileds  email(of type text and (counts (of type integer)\n",
    "curr.execute('''CREATE TABLE Counts(counts INTEGER NOT NULL PRIMARY KEY  AUTOINCREMENT, email TEXT)''')\n",
    "\n",
    "filename = input('Please enter a valid file name')\n",
    "if len(filename) < 1:\n",
    "    print(\"Please make sure you've typed a valid file name\")\n",
    "handle = open(filename)\n",
    "for line in handle:\n",
    "    if line.startswith(\"From: \"): \n",
    "        parts = line.split()\n",
    "        email = parts[1]\n",
    "        #print(email)\n",
    "        curr.execute('INSERT INTO Counts (email) VALUES (?)', (email,))\n",
    "        curr.execute('SELECT counts FROM Counts WHERE email = ?', (email,))\n",
    "        counts = curr.fetchone()[0]\n",
    "        \n",
    "        conn.commit()\n"
   ]
  },
  {
   "attachments": {},
   "cell_type": "markdown",
   "metadata": {},
   "source": [
    "import sqlite3\n",
    "conn = sqlite3.connect(\"something\")\n",
    "curr = conn.cursor()\n",
    "\n",
    "curr.execute('CREATE TABLE Sunny(Time INTEGER, Weather TEXT)')\n",
    "\n",
    "data = input('please input file name')\n",
    "if len(data) < 1:\n",
    "    print('please input a valid file name')\n",
    "datah = open(data)\n",
    "for line in datah:\n",
    "    if line.startswith(\"From: \"):\n",
    "        parts = line.split()\n",
    "        relevant = parts[1]\n",
    "        curr.execute(\"SELECT Time from Sunny where Time= ?\", (relevant,))"
   ]
  },
  {
   "cell_type": "code",
   "execution_count": 3,
   "metadata": {},
   "outputs": [
    {
     "data": {
      "text/plain": [
       "<sqlite3.Cursor at 0x2869f45dac0>"
      ]
     },
     "execution_count": 3,
     "metadata": {},
     "output_type": "execute_result"
    }
   ],
   "source": [
    "#Just creating a table\n",
    "import sqlite3\n",
    "create = sqlite3.connect(\"Kaseydb.sqlite3\")\n",
    "\n",
    "curr = create.cursor()\n",
    "curr.execute('''CREATE TABLE VAYCAYS(Vacation TEXT, Places TEXT)''')"
   ]
  },
  {
   "cell_type": "code",
   "execution_count": 2,
   "metadata": {},
   "outputs": [],
   "source": [
    "import sqlite3\n",
    "make = sqlite3.connect(\"new1.sqlite\")\n",
    "magic_wand = make.cursor()\n",
    "\n",
    "magic_wand.execute(\n",
    "\"CREATE TABLE EMAILS (email TEXT,frequency INTEGER)\")\n",
    "\n",
    "doc = input(\"Please enter a valid filename\")\n",
    "if len(doc) < 1:\n",
    "    print(\"Please make sure you've entered a valid file name\")\n",
    "doc_handle =  open(doc)\n",
    "for line in doc_handle:\n",
    "    if line.startswith(\"From: \"):\n",
    "        partitions = line.split()\n",
    "        email = partitions[1]\n",
    "        #Selecting frequency from the table(EMAILS) WHERE email= ?, question mark is a placeholder later to be replaced by email      \n",
    "        magic_wand.execute(\"SELECT frequency FROM EMAILS WHERE email = ?\", (email,))\n",
    "\n",
    "        #.fetchone() This method retrieves the next row of a query result set and returns a single sequence, or None if no more rows are available.\n",
    "        row = magic_wand.fetchone()\n",
    "        if row is None:\n",
    "            magic_wand.execute(\"INSERT INTO EMAILS (email,frequency) VALUES( ? , 1)\", (email,))\n",
    "        else:\n",
    "            magic_wand.execute(\"UPDATE frequency SET frequency = frequency + 1 WHERE email = ?\", (email,) )\n",
    "\n",
    "        make.commit()\n",
    "        \n"
   ]
  }
 ],
 "metadata": {
  "kernelspec": {
   "display_name": "Python 3",
   "language": "python",
   "name": "python3"
  },
  "language_info": {
   "codemirror_mode": {
    "name": "ipython",
    "version": 3
   },
   "file_extension": ".py",
   "mimetype": "text/x-python",
   "name": "python",
   "nbconvert_exporter": "python",
   "pygments_lexer": "ipython3",
   "version": "3.11.1"
  },
  "orig_nbformat": 4
 },
 "nbformat": 4,
 "nbformat_minor": 2
}
