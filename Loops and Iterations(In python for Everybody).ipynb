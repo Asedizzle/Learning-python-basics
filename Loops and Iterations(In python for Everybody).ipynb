{
 "cells": [
  {
   "cell_type": "code",
   "execution_count": 9,
   "metadata": {},
   "outputs": [
    {
     "name": "stdout",
     "output_type": "stream",
     "text": [
      "12 As compared to 12 gives 12 as the current biggest number\n",
      "78 As compared to 78 gives 78 as the current biggest number\n",
      "94 As compared to 94 gives 94 as the current biggest number\n",
      "56 As compared to 94 gives 94 as the current biggest number\n",
      "55 As compared to 94 gives 94 as the current biggest number\n",
      "64 As compared to 94 gives 94 as the current biggest number\n",
      "34 As compared to 94 gives 94 as the current biggest number\n"
     ]
    }
   ],
   "source": [
    "current_biggest_number = 12\n",
    "x = [12,78,94,56,55,64,34]\n",
    "for i in x:\n",
    "    if i > current_biggest_number:\n",
    "        current_biggest_number = i\n",
    "    print(i, \"As compared to\" , current_biggest_number, \"gives\", current_biggest_number , \"as the current biggest number\" )\n",
    "      \n",
    "     "
   ]
  },
  {
   "cell_type": "code",
   "execution_count": 2,
   "metadata": {},
   "outputs": [
    {
     "name": "stdout",
     "output_type": "stream",
     "text": [
      "[45, 78, 32, 12, 56]\n",
      "45 As compared togives 45 as the current smallest number\n",
      "78 As compared togives 45 as the current smallest number\n",
      "32 As compared togives 32 as the current smallest number\n",
      "12 As compared togives 12 as the current smallest number\n",
      "56 As compared togives 12 as the current smallest number\n"
     ]
    }
   ],
   "source": [
    "current_smallest_number = 47\n",
    "n = 5\n",
    "res = list()\n",
    "\n",
    "#let user enter 5 inputs\n",
    "while n > 0:\n",
    "    res.append(int(input(\"Enter number: \")))\n",
    "    n -= 1\n",
    "    \n",
    "print(res)\n",
    "    \n",
    "for i in res:\n",
    "    if i < current_smallest_number:\n",
    "        current_smallest_number = i\n",
    "       \n",
    "    print( i , \"As compared to\" + \"gives\", current_smallest_number ,  \"as the current smallest number\")\n",
    "\n",
    "\n",
    "\n"
   ]
  },
  {
   "cell_type": "code",
   "execution_count": 2,
   "metadata": {},
   "outputs": [
    {
     "name": "stdout",
     "output_type": "stream",
     "text": [
      "11 12 12 wins\n",
      "5 12 12 wins\n",
      "7 12 12 wins\n",
      "4 12 12 wins\n",
      "12 12 12 wins\n",
      "78 78 78 wins\n",
      "56 78 78 wins\n",
      "45 78 78 wins\n"
     ]
    }
   ],
   "source": [
    "current_biggest_n = 12\n",
    "x =[11,5,7,4,12,78,56,45]\n",
    "for i in x:\n",
    "    if i > current_biggest_n:\n",
    "        current_biggest_n = i\n",
    "    print(i , current_biggest_n, current_biggest_n, \"wins\")"
   ]
  },
  {
   "cell_type": "code",
   "execution_count": 5,
   "metadata": {},
   "outputs": [
    {
     "name": "stdout",
     "output_type": "stream",
     "text": [
      "[21, 45, 67, 12, 67]\n",
      "21 21 21 wins\n",
      "45 21 21 wins\n",
      "67 21 21 wins\n",
      "12 12 12 wins\n",
      "67 12 12 wins\n"
     ]
    }
   ],
   "source": [
    "n = 5\n",
    "\n",
    "res = list()\n",
    "\n",
    "\n",
    "while n > 0:\n",
    "    res.append(int(input(\"Please enter 5 numbers one after the other: \")))\n",
    "    n -= 1\n",
    "print(res)\n",
    "    \n",
    "curent_smallest_number  =  21\n",
    "\n",
    "for i in res:\n",
    "    if i < curent_smallest_number:\n",
    "        curent_smallest_number = i\n",
    "    print(i, curent_smallest_number,  curent_smallest_number, \"wins\")\n",
    "        \n",
    "    "
   ]
  },
  {
   "cell_type": "code",
   "execution_count": null,
   "metadata": {},
   "outputs": [],
   "source": []
  }
 ],
 "metadata": {
  "kernelspec": {
   "display_name": "Python 3",
   "language": "python",
   "name": "python3"
  },
  "language_info": {
   "codemirror_mode": {
    "name": "ipython",
    "version": 3
   },
   "file_extension": ".py",
   "mimetype": "text/x-python",
   "name": "python",
   "nbconvert_exporter": "python",
   "pygments_lexer": "ipython3",
   "version": "3.11.1"
  },
  "orig_nbformat": 4,
  "vscode": {
   "interpreter": {
    "hash": "2eda06f8fe6fb7abb511cc6e50ffbf584d0540cd226e02af9b351e301191bb81"
   }
  }
 },
 "nbformat": 4,
 "nbformat_minor": 2
}
