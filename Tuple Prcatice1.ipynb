{
 "cells": [
  {
   "cell_type": "code",
   "execution_count": null,
   "metadata": {},
   "outputs": [],
   "source": [
    "#1. Write a Python program to create a tuple\n",
    "(a,b) = (2,3)"
   ]
  },
  {
   "cell_type": "code",
   "execution_count": 1,
   "metadata": {},
   "outputs": [
    {
     "name": "stdout",
     "output_type": "stream",
     "text": [
      "3.56\n",
      "<class 'float'>\n"
     ]
    }
   ],
   "source": [
    "#2.Write a Python program to create a tuple with different data types\n",
    "(x,y,z) = (\"Ama\", 3.56, 9)\n",
    "print(y)\n",
    "print(type(y))"
   ]
  },
  {
   "cell_type": "code",
   "execution_count": 6,
   "metadata": {},
   "outputs": [
    {
     "name": "stdout",
     "output_type": "stream",
     "text": [
      "(10, 20, 100)\n",
      "(40, 50, 100)\n",
      "(70, 80, 100)\n",
      "[(10, 20, 40), (40, 50, 60), (70, 80, 90)]\n"
     ]
    }
   ],
   "source": [
    "\"\"\"21. Write a Python program to replace last value of tuples in a list. Go to the editor\n",
    "Sample list: [(10, 20, 40), (40, 50, 60), (70, 80, 90)]\n",
    "Expected Output: [(10, 20, 100), (40, 50, 100), (70, 80, 100)]\n",
    "\"\"\"\n",
    "#We learnt that tuples are immutable but look at this magic\n",
    "\n",
    "Sample_list = [(10, 20, 40), (40, 50, 60), (70, 80, 90)]\n",
    "for i in Sample_list:\n",
    "    print((i[:-1]  + (100,)))\n",
    "print(Sample_list)"
   ]
  },
  {
   "cell_type": "code",
   "execution_count": 12,
   "metadata": {},
   "outputs": [
    {
     "ename": "SyntaxError",
     "evalue": "invalid syntax (2912235344.py, line 12)",
     "output_type": "error",
     "traceback": [
      "\u001b[1;36m  Cell \u001b[1;32mIn [12], line 12\u001b[1;36m\u001b[0m\n\u001b[1;33m    i for i in Sample_data:\u001b[0m\n\u001b[1;37m      ^\u001b[0m\n\u001b[1;31mSyntaxError\u001b[0m\u001b[1;31m:\u001b[0m invalid syntax\n"
     ]
    }
   ],
   "source": [
    "\"\"\"Write a Python program to remove an empty tuple(s) from a list of tuples. Go to the editor\n",
    "Sample data: [(), (), ('',), ('a', 'b'), ('a', 'b', 'c'), ('d')]\n",
    "Expected output: [('',), ('a', 'b'), ('a', 'b', 'c'), 'd']\n",
    "\"\"\"\n",
    "Sample_D = []\n",
    "Sample_data = [(), (), ('',), ('a', 'b'), ('a', 'b', 'c'), ('d')]\n",
    "for i in Sample_data:\n",
    "    if i != ():\n",
    "        Sample_D.append(i)\n",
    "print(Sample_D)\n",
    "    \n",
    "for i in Sample_data:\n",
    "    if i:\n",
    "        print(i)"
   ]
  },
  {
   "cell_type": "code",
   "execution_count": 25,
   "metadata": {},
   "outputs": [
    {
     "name": "stdout",
     "output_type": "stream",
     "text": [
      "[('24.5', 'item3'), ('15.10', 'item2'), ('12.20', 'item1')]\n",
      "[('item3', '24.5'), ('item2', '15.10'), ('item1', '12.20')]\n"
     ]
    }
   ],
   "source": [
    "\"\"\"23. Write a Python program to sort a tuple by its float element. Go to the editor\n",
    "Sample data: [('item1', '12.20'), ('item2', '15.10'), ('item3', '24.5')]\n",
    "Expected Output: [('item3', '24.5'), ('item2', '15.10'), ('item1', '12.20')]\n",
    "\"\"\"\n",
    "dicy = {}\n",
    "k = [('item1', '12.20'), ('item2', '15.10'), ('item3', '24.5')]\n",
    "r = sorted([(v,k) for (k,v) in k], reverse=True)\n",
    "print(r)\n",
    "\n",
    "w = [(a,b) for (b,a) in r]\n",
    "print(w)"
   ]
  },
  {
   "cell_type": "code",
   "execution_count": 26,
   "metadata": {},
   "outputs": [
    {
     "name": "stdout",
     "output_type": "stream",
     "text": [
      "3\n"
     ]
    }
   ],
   "source": [
    "#24. Write a Python program to count the elements in a list until an element is a tuple.\n",
    "\n",
    "num = [10,20,30,(10,20),40]\n",
    "count = 0\n",
    "for i in num:\n",
    "    if type(i) != tuple:\n",
    "        count = count + 1\n",
    "    else:\n",
    "        break\n",
    "    \n",
    "print(count)"
   ]
  }
 ],
 "metadata": {
  "kernelspec": {
   "display_name": "Python 3",
   "language": "python",
   "name": "python3"
  },
  "language_info": {
   "codemirror_mode": {
    "name": "ipython",
    "version": 3
   },
   "file_extension": ".py",
   "mimetype": "text/x-python",
   "name": "python",
   "nbconvert_exporter": "python",
   "pygments_lexer": "ipython3",
   "version": "3.11.0 (main, Oct 24 2022, 18:26:48) [MSC v.1933 64 bit (AMD64)]"
  },
  "orig_nbformat": 4,
  "vscode": {
   "interpreter": {
    "hash": "75e8471d87e00636ba5a6da732d109ea2939ec337ebc809347bd7606d2472ad3"
   }
  }
 },
 "nbformat": 4,
 "nbformat_minor": 2
}
