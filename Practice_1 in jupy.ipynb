{
 "cells": [
  {
   "cell_type": "code",
   "execution_count": 1,
   "metadata": {},
   "outputs": [
    {
     "data": {
      "text/plain": [
       "<sqlite3.Cursor at 0x2b18b94e240>"
      ]
     },
     "execution_count": 1,
     "metadata": {},
     "output_type": "execute_result"
    }
   ],
   "source": [
    "import sqlite3\n",
    "create = sqlite3.connect(\"practice_1 with jupy.db\")\n",
    "wand = create.cursor()\n",
    "\n",
    "wand.execute(\"\"\"CREATE TABLE CITIES(City TEXT, Population INTEGER)\n",
    "             \"\"\")\n",
    "\n",
    "\n"
   ]
  },
  {
   "cell_type": "code",
   "execution_count": 8,
   "metadata": {},
   "outputs": [
    {
     "data": {
      "text/plain": [
       "<sqlite3.Cursor at 0x2b18b94e240>"
      ]
     },
     "execution_count": 8,
     "metadata": {},
     "output_type": "execute_result"
    }
   ],
   "source": [
    "wand.execute(\"\"\" INSERT INTO CITIES(City, Population) VALUES (\"Paris\", 3000)\"\"\")\n",
    "wand.execute(\"\"\" INSERT INTO CITIES (City, Population) VALUES (\"Accra\", 1500)\"\"\")\n",
    "wand.execute(\"\"\" INSERT INTO CITIES (City, Population) VALUES (\"London\", 12000)\"\"\")\n",
    "wand.execute(\"\"\" INSERT INTO CITIES (City, Population) VALUES (\"New York\", 55000)\"\"\")\n",
    "wand.execute(\"\"\" INSERT INTO CITIES (City, Population) VALUES (\"Sydney\", 500)\"\"\")\n",
    "wand.execute(\"\"\" INSERT INTO CITIES (City, Population) VALUES (\"Beijing\", 500)\"\"\")\n",
    "wand.execute(\"\"\" INSERT INTO CITIES (City, Population) VALUES (\"Berlin\", 97000)\"\"\")\n",
    "wand.execute(\"\"\" INSERT INTO CITIES (City, Population) VALUES (\"Shinzoku\", 4000)\"\"\")\n",
    "wand.execute(\"\"\" INSERT INTO CITIES (City, Population) VALUES (\"Atlanta\", 3000)\"\"\")\n",
    "wand.execute(\"\"\" INSERT INTO CITIES (City, Population) VALUES (\"Seoul\", 3000)\"\"\")\n",
    "            "
   ]
  },
  {
   "attachments": {},
   "cell_type": "markdown",
   "metadata": {},
   "source": [
    "how to put existing data into a database using python and sqlite3"
   ]
  },
  {
   "cell_type": "code",
   "execution_count": 10,
   "metadata": {},
   "outputs": [
    {
     "data": {
      "text/plain": [
       "<sqlite3.Cursor at 0x2b18b94e240>"
      ]
     },
     "execution_count": 10,
     "metadata": {},
     "output_type": "execute_result"
    }
   ],
   "source": [
    "wand.execute(\"\"\" DELETE FROM CITIES WHERE Population = 1500 \"\"\")\n",
    "wand.execute(\"\"\" DELETE FROM CITIES WHERE City=\"Atlanta\" \"\"\")\n",
    "             "
   ]
  },
  {
   "cell_type": "code",
   "execution_count": 11,
   "metadata": {},
   "outputs": [
    {
     "data": {
      "text/plain": [
       "<sqlite3.Cursor at 0x2b18b94e240>"
      ]
     },
     "execution_count": 11,
     "metadata": {},
     "output_type": "execute_result"
    }
   ],
   "source": [
    "wand.execute(\"\"\"UPDATE CITIES SET City=\"Tokyo\" WHERE Population= 55000\n",
    "          \n",
    "             \"\"\")"
   ]
  },
  {
   "cell_type": "code",
   "execution_count": 13,
   "metadata": {},
   "outputs": [
    {
     "ename": "OperationalError",
     "evalue": "near \")\": syntax error",
     "output_type": "error",
     "traceback": [
      "\u001b[1;31m---------------------------------------------------------------------------\u001b[0m",
      "\u001b[1;31mOperationalError\u001b[0m                          Traceback (most recent call last)",
      "\u001b[1;32mc:\\Users\\hp\\Desktop\\Current projects in TECH\\Kaggle Python but mostly P4E\\Practicing video lessons\\Database Revision\\Practice_1 in jupy.ipynb Cell 6\u001b[0m in \u001b[0;36m1\n\u001b[1;32m----> <a href='vscode-notebook-cell:/c%3A/Users/hp/Desktop/Current%20projects%20in%20TECH/Kaggle%20Python%20but%20mostly%20P4E/Practicing%20video%20lessons/Database%20Revision/Practice_1%20in%20jupy.ipynb#W4sZmlsZQ%3D%3D?line=0'>1</a>\u001b[0m wand\u001b[39m.\u001b[39;49mexecute(\u001b[39m\"\"\"\u001b[39;49m\u001b[39m SELECT * FROM CITIES WHERE Population= 3000) \u001b[39;49m\u001b[39m\"\"\"\u001b[39;49m)\n\u001b[0;32m      <a href='vscode-notebook-cell:/c%3A/Users/hp/Desktop/Current%20projects%20in%20TECH/Kaggle%20Python%20but%20mostly%20P4E/Practicing%20video%20lessons/Database%20Revision/Practice_1%20in%20jupy.ipynb#W4sZmlsZQ%3D%3D?line=1'>2</a>\u001b[0m wand\u001b[39m.\u001b[39mexecute(\u001b[39m\"\"\"\u001b[39m\u001b[39m SELECT * FROM CITIES WHERE Population= 500) \u001b[39m\u001b[39m\"\"\"\u001b[39m)\n",
      "\u001b[1;31mOperationalError\u001b[0m: near \")\": syntax error"
     ]
    }
   ],
   "source": [
    "wand.execute(\"\"\" SELECT * FROM CITIES WHERE Population= 3000) \"\"\")\n",
    "wand.execute(\"\"\" SELECT * FROM CITIES WHERE Population= 500) \"\"\")"
   ]
  },
  {
   "cell_type": "code",
   "execution_count": 14,
   "metadata": {},
   "outputs": [
    {
     "data": {
      "text/plain": [
       "<sqlite3.Cursor at 0x2b18b94e240>"
      ]
     },
     "execution_count": 14,
     "metadata": {},
     "output_type": "execute_result"
    }
   ],
   "source": [
    "wand.execute(\"\"\"\n",
    "             SELECT * FROM CITIES ORDER BY City DESC;\n",
    "             \"\"\")"
   ]
  },
  {
   "cell_type": "code",
   "execution_count": null,
   "metadata": {},
   "outputs": [],
   "source": []
  }
 ],
 "metadata": {
  "kernelspec": {
   "display_name": "Python 3",
   "language": "python",
   "name": "python3"
  },
  "language_info": {
   "codemirror_mode": {
    "name": "ipython",
    "version": 3
   },
   "file_extension": ".py",
   "mimetype": "text/x-python",
   "name": "python",
   "nbconvert_exporter": "python",
   "pygments_lexer": "ipython3",
   "version": "3.11.1"
  },
  "orig_nbformat": 4
 },
 "nbformat": 4,
 "nbformat_minor": 2
}
