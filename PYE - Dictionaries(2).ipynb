{
 "cells": [
  {
   "cell_type": "code",
   "execution_count": 21,
   "metadata": {},
   "outputs": [
    {
     "name": "stdout",
     "output_type": "stream",
     "text": [
      "{'THE': 1, 'STORY': 2, 'WE': 1, 'ARE': 1, 'WRITING': 1, '2,500': 1, 'THREE': 1, 'WAY': 1, 'LOVE': 1, 'BACK': 1, 'and': 7, 'forth': 1, 'to': 2, 'make': 1, 'you': 4, 'think': 1, \"he's\": 1, 'cheating': 1, 'but': 2, 'in': 4, 'reality': 1, 'he': 3, 'left': 1, 'her': 1, '\"she': 1, 'saw': 1, 'him': 1, 'first\"': 1, 'The': 1, 'man': 2, 'across': 1, 'from': 2, 'me': 3, 'had': 2, 'on': 2, 'a': 4, 'trechcoat': 1, 'hat.': 1, 'It': 1, 'would': 1, 'have': 1, 'been': 1, 'funny': 1, 'except': 1, 'his': 3, 'face': 1, 'was': 4, 'hidden': 1, 'by': 1, 'the': 4, 'shadows': 1, 'tone': 1, 'of': 2, 'voice': 2, 'told': 1, 'charge': 1, 'here.': 1, '\"Do': 1, 'remember': 1, 'why': 1, 'are': 1, 'here?\"He': 1, 'that': 3, 'could': 2, 'only': 1, 'be': 3, 'described': 1, 'as': 2, 'cold,lacking': 1, 'emotion,': 1, 'almost': 1, 'robotic.': 1, 'I': 5, 'losing': 1, 'my': 2, 'mind': 1, 'here': 1, 'this': 2, 'spoke': 1, 'if': 1, \"couldn't\": 1, 'more': 1, 'bored.': 1, 'One': 1, 'minute': 1, 'was-wait': 1, 'I?': 1, '\"I..I..I': 1, \"don't\": 2, 'even': 1, 'know': 2, 'where': 2, 'is': 1, 'supposed': 1, 'be.': 1, 'He': 1, 'leaned': 1, 'foward': 1, 'slowly': 1, 'chair,': 1, 'yet': 1, 'features': 1, 'still': 1, 'not': 1, 'seen': 1, 'distinctly.': 1, '\"Tell': 1, 'what': 1, 'remember,': 1, 'events': 1, 'led': 1, 'up': 1, 'until': 1, 'now\".': 1, '\"But..I': 1, \"don't...wait\": 1, 'do\".': 1, 'And': 1, 'did.They': 1, 'were': 1, 'so': 2, 'sudden,the': 1, 'memories': 1, 'rushed': 1, 'sudden': 1, 'tear': 1, 'fell': 1, 'eye...I': 1, 'am,': 1, \"I'm\": 1, 'probably': 1, 'in........': 1, 'From': 1, ':amartinson@st.ug.edu.gh': 1, '21st': 1, 'December,': 1, '2022.': 1}\n",
      "and 7\n"
     ]
    }
   ],
   "source": [
    "k = {}\n",
    "fhand = open(\"lll.txt\" , \"r\")\n",
    "for line in fhand:\n",
    "    words = line.split()\n",
    "    for word in words:\n",
    "        k[word] = k.get(word, 0) + 1\n",
    "print(k)\n",
    "\n",
    "highest_occ_word = None\n",
    "biggest_count = None\n",
    "for word,count in k.items():\n",
    "    if biggest_count is None or count > biggest_count:\n",
    "        highest_occ_word = word\n",
    "        biggest_count = count\n",
    "        #print(highest_occ_word, biggest_count)\n",
    "        \n",
    "print(highest_occ_word, biggest_count)"
   ]
  },
  {
   "cell_type": "code",
   "execution_count": null,
   "metadata": {},
   "outputs": [],
   "source": []
  }
 ],
 "metadata": {
  "kernelspec": {
   "display_name": "Python 3",
   "language": "python",
   "name": "python3"
  },
  "language_info": {
   "codemirror_mode": {
    "name": "ipython",
    "version": 3
   },
   "file_extension": ".py",
   "mimetype": "text/x-python",
   "name": "python",
   "nbconvert_exporter": "python",
   "pygments_lexer": "ipython3",
   "version": "3.11.1"
  },
  "orig_nbformat": 4,
  "vscode": {
   "interpreter": {
    "hash": "2eda06f8fe6fb7abb511cc6e50ffbf584d0540cd226e02af9b351e301191bb81"
   }
  }
 },
 "nbformat": 4,
 "nbformat_minor": 2
}
