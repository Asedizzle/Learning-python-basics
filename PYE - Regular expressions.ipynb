{
 "cells": [
  {
   "cell_type": "code",
   "execution_count": null,
   "metadata": {},
   "outputs": [],
   "source": [
    "#Using regular expressions like re.search to do some find()\n",
    "fhand = open(\"lll.txt\")\n",
    "for line in fhand:\n",
    "    w = line.rstrip()\n",
    "    if line.find(\"From\") >= 0:\n",
    "        print(line)\n",
    "        \n",
    "#Similarly\n",
    "import re\n",
    "dhand = open(\"lll.txt\")\n",
    "for line in dhand:\n",
    "    k = line.rstrip()\n",
    "    if re.search(\"From\", line):\n",
    "        print(line)"
   ]
  },
  {
   "cell_type": "code",
   "execution_count": 7,
   "metadata": {},
   "outputs": [
    {
     "name": "stdout",
     "output_type": "stream",
     "text": [
      "X_JKNEIENF DDN: I want to see this line\n",
      "\n",
      "X-KSJD ID DS: GREAT JOB! THIS LINE\n",
      "\n",
      "X-A GREAT WAY TO START: THANKS!\n",
      "\n",
      "X-GHANAISACOUNTRY: This time it's me you're looking for\n",
      "\n",
      "X-ILOVEIT: Really enjoying regular expressions, as the director of WHO, who would have thought\n",
      "\n",
      "X-OKAY: Yes print me too\n"
     ]
    }
   ],
   "source": [
    "import re\n",
    "file_h = open(\"RE.txt\")\n",
    "for line in file_h:\n",
    "    if re.search(\"^X.*:\" , line): #Where ^(means a line that startswith) .(represents any character after X) *(the character coming many times) :(followed by a colon)\n",
    "        print(line)"
   ]
  },
  {
   "cell_type": "code",
   "execution_count": 8,
   "metadata": {},
   "outputs": [
    {
     "name": "stdout",
     "output_type": "stream",
     "text": [
      "X-GHANAISACOUNTRY: 56793\n",
      "\n",
      "X-GHANAISACOUNTRY: This time it's me you're looking for\n",
      "\n",
      "X-GHANAISACOUNTRY: 37899\n",
      "\n",
      "X-ILOVEIT: Really enjoying regular expressions, as the director of WHO, who would have thought\n",
      "\n",
      "X-OKAY: Yes print me too\n",
      "\n",
      "X-GHANAISACOUNTRY: 98925\n",
      "\n",
      "X-GHANAISACOUNTRY: 82567\n",
      "\n",
      "X-GHANAISACOUNTRY: Ice cream\n",
      "\n",
      "X-GHANAISACOUNTRY: 679035\n"
     ]
    }
   ],
   "source": [
    "import re\n",
    "file_gateway = open(\"RE.TXT\")\n",
    "for line in file_gateway:\n",
    "    if re.search(\"^X-\\S+:\", line): #^(means a line that startswith X) -(followed by a dash) \\S(A non-whitespace character) +(One or more times) :(followed by a colon)\n",
    "        print(line)"
   ]
  },
  {
   "cell_type": "code",
   "execution_count": 22,
   "metadata": {},
   "outputs": [
    {
     "name": "stdout",
     "output_type": "stream",
     "text": [
      "['1', '78']\n"
     ]
    }
   ],
   "source": [
    "#.findall(creates a list of the particular characters you are searching for)\n",
    "#\"[0-9]\" represents a single character  the 0-9 means the allowed character range so any characters in that range would be appended to the list\n",
    "# + Appearing one or more times, so \"[0-9]+\" is one or more numbers\n",
    "import re\n",
    "x = \"I am a string 1 I am a string 78 \"\n",
    "\n",
    "\n",
    "\n",
    "w = (re.findall(\"[0-9]+\" , x ))\n",
    "print(w)\n",
    "\n",
    "        "
   ]
  },
  {
   "cell_type": "code",
   "execution_count": 11,
   "metadata": {},
   "outputs": [
    {
     "name": "stdout",
     "output_type": "stream",
     "text": [
      "['1', '4', '56', '600000']\n"
     ]
    }
   ],
   "source": [
    "y = \"I can say 1 is a num and 4 is a num but 56 is a num, when do num end 600000??\"\n",
    "import re\n",
    "x = re.findall(\"[0-9]+\", y)\n",
    "print(x)"
   ]
  },
  {
   "cell_type": "code",
   "execution_count": 11,
   "metadata": {},
   "outputs": [
    {
     "name": "stdout",
     "output_type": "stream",
     "text": [
      "['My', 'ASEDA,', 'Aseda', 'Name,', 'LOVE', 'Zebra,', 'Gerald,', 'Monkey,']\n"
     ]
    }
   ],
   "source": [
    "import re\n",
    "x = \"My name is ASEDA, Aseda is my Name, I LOVE it Zebra, anklet, Gerald, Monkey,\"\n",
    "w = re.findall(\"[A-Z]\\S+\",x) #Any word that starts with a capital letter in this range followed by one or more non-whitespace characters.\n",
    "print(w)\n",
    "    "
   ]
  },
  {
   "cell_type": "code",
   "execution_count": 3,
   "metadata": {},
   "outputs": [
    {
     "name": "stdout",
     "output_type": "stream",
     "text": [
      "['ASEDA,', 'Aseda', 'OVE']\n",
      "['A', 'E', 'A', 'A', 'I', 'O', 'E']\n"
     ]
    }
   ],
   "source": [
    "#Can you guess what this code does\n",
    "import re\n",
    "x = \"My name is ASEDA, Aseda is my Name, I LOVE it\"\n",
    "ans = re.findall(\"[AEIOU]\\S+\" , x)\n",
    "print(ans)\n",
    "\n",
    "big_ans = re.findall(\"[AEIOU]+\" , x)\n",
    "print(big_ans)"
   ]
  },
  {
   "cell_type": "code",
   "execution_count": 12,
   "metadata": {},
   "outputs": [
    {
     "name": "stdout",
     "output_type": "stream",
     "text": [
      "['ASEDA,', 'Aseda', 'OVE']\n"
     ]
    }
   ],
   "source": [
    "import re\n",
    "x = \"My name is ASEDA, Aseda is my Name, I LOVE it\"\n",
    "pringles = re.findall(\"[AEIOU]\\S+\" , x )\n",
    "print(pringles)"
   ]
  },
  {
   "cell_type": "code",
   "execution_count": 14,
   "metadata": {},
   "outputs": [
    {
     "name": "stdout",
     "output_type": "stream",
     "text": [
      "['From:  Me and Micheal:']\n"
     ]
    }
   ],
   "source": [
    "#Greedy matching\n",
    "x = \"From:  Me and Micheal: To you\"\n",
    "q = re.findall(\"^F.+:\", x)\n",
    "print(q)"
   ]
  },
  {
   "cell_type": "code",
   "execution_count": 15,
   "metadata": {},
   "outputs": [
    {
     "name": "stdout",
     "output_type": "stream",
     "text": [
      "['From:']\n"
     ]
    }
   ],
   "source": [
    "#Non-greedy matching\n",
    "x = \"From:  Me and Micheal: To you\"\n",
    "r = re.findall(\"^F.+?:\", x)\n",
    "print(r)"
   ]
  },
  {
   "cell_type": "code",
   "execution_count": 6,
   "metadata": {},
   "outputs": [
    {
     "name": "stdout",
     "output_type": "stream",
     "text": [
      "['From:  Me and Micheal:']\n",
      "['From:']\n",
      "['From:']\n"
     ]
    }
   ],
   "source": [
    "#In this exampke we explore greedy matching, where if your code can macth one or more things it always goes for the longer one\n",
    "#In this example we wanted only the 'From:' to print\n",
    "import re\n",
    "x = \"From:  Me and Micheal: To you\"\n",
    "y = re.findall(\"^F.+:\", x)\n",
    "print(y)\n",
    "\n",
    "#So in this case if you can be more specific, to state that you prefer the shorter version make use of ?\n",
    "correction_1 = re.findall(\"^F\\S+:\" , x)\n",
    "print(correction_1)\n",
    "\n",
    "Non_greedy_correction = re.findall(\"^F.+?:\" , x)\n",
    "print(Non_greedy_correction)"
   ]
  },
  {
   "cell_type": "code",
   "execution_count": 14,
   "metadata": {},
   "outputs": [
    {
     "name": "stdout",
     "output_type": "stream",
     "text": [
      "['amartinson@st.ug.edu.gh']\n",
      "['n@s']\n",
      "['amartinson@st.ug.edu.gh']\n",
      "['st.ug.edu.gh']\n"
     ]
    }
   ],
   "source": [
    "#Why is Greedy the default then? Well, let's find out\n",
    "import re\n",
    "j = \"From amartinson@st.ug.edu.gh to you here at this seminar\"\n",
    "pew = re.findall(\"\\S+@\\S+\" , j)\n",
    "print(pew)\n",
    "\n",
    "k =re.findall(\"\\S@\\S\" , j)\n",
    "print(k)\n",
    "\n",
    "#So if for instance you want to make your matching more precise but print only a specific part. Like you want only an @ that comes after the keyword From\n",
    "m = re.findall(\"^From (\\S+@\\S+)\" , j) \n",
    "print(m)\n",
    "\n",
    "#Using regular expressions to get just the domain name [^ ] - this means non-whitespace characters which are not blank\n",
    "n = re.findall(\"@([^ ]*)\" , j)\n",
    "print(n)\n",
    "\n",
    "#Or be more specific and add \"^From .*@([^ ]*)\" \n"
   ]
  },
  {
   "cell_type": "code",
   "execution_count": 17,
   "metadata": {},
   "outputs": [
    {
     "name": "stdout",
     "output_type": "stream",
     "text": [
      "['amartinson@st.ug.edu.gh']\n",
      "['st.ug.edu.gh']\n"
     ]
    }
   ],
   "source": [
    "import re\n",
    "j = \"From amartinson@st.ug.edu.gh to you here at this seminar\"\n",
    "win = re.findall(\"\\S+@\\S+\", j)\n",
    "print(win)\n",
    "\n",
    "tp = re.findall(\"@(\\S+)\", j)\n",
    "print(tp)"
   ]
  }
 ],
 "metadata": {
  "kernelspec": {
   "display_name": "Python 3",
   "language": "python",
   "name": "python3"
  },
  "language_info": {
   "codemirror_mode": {
    "name": "ipython",
    "version": 3
   },
   "file_extension": ".py",
   "mimetype": "text/x-python",
   "name": "python",
   "nbconvert_exporter": "python",
   "pygments_lexer": "ipython3",
   "version": "3.11.1"
  },
  "orig_nbformat": 4,
  "vscode": {
   "interpreter": {
    "hash": "2eda06f8fe6fb7abb511cc6e50ffbf584d0540cd226e02af9b351e301191bb81"
   }
  }
 },
 "nbformat": 4,
 "nbformat_minor": 2
}
