{
 "cells": [
  {
   "cell_type": "code",
   "execution_count": 4,
   "metadata": {},
   "outputs": [
    {
     "name": "stdout",
     "output_type": "stream",
     "text": [
      "{'item 1': 'phone', 'item 2': 'wallet', 'item 3': 'pencil case'}\n",
      "{'item 1': 'phone', 'item 2': 'wallet', 'item 3': 'pencil case eraser'}\n"
     ]
    }
   ],
   "source": [
    "#Making dictionaries in python, all dict() have key: value pairs\n",
    "first_tionary = dict()\n",
    "first_tionary[\"item 1\"] = \"phone\"\n",
    "first_tionary[\"item 2\"] = \"wallet\"\n",
    "first_tionary[\"item 3\"] = \"pencil case\"\n",
    "\n",
    "print(first_tionary)\n",
    "first_tionary[\"item 3\"] = first_tionary[\"item 3\"] + \" eraser\"\n",
    "print(first_tionary)"
   ]
  },
  {
   "cell_type": "code",
   "execution_count": 6,
   "metadata": {},
   "outputs": [
    {
     "name": "stdout",
     "output_type": "stream",
     "text": [
      "{1: 'Joe', '2': 'Gina', 'friend': 'Harry'}\n",
      "{1: 'Joe', '2': 'Gina', 'friend': 'HarrySimpleton'}\n"
     ]
    }
   ],
   "source": [
    "#using a curly bracket to declare a dictionary instead dict()\n",
    "x = {}\n",
    "x[1] = \"Joe\"\n",
    "x[\"2\"] = \"Gina\" #showing you , you can write keys as numbers or words(using strings)\n",
    "x[\"friend\"] = \"Harry\"\n",
    "\n",
    "print(x)\n",
    "x[\"friend\"] = x[\"friend\"] = \"Harry\" + \"Simpleton\"\n",
    "print(x)"
   ]
  },
  {
   "cell_type": "code",
   "execution_count": 10,
   "metadata": {},
   "outputs": [
    {
     "name": "stdout",
     "output_type": "stream",
     "text": [
      "{'Abena': 1}\n",
      "{'Abena': 1, 'Esi': 1}\n",
      "{'Abena': 1, 'Esi': 1, 'Ama': 1}\n",
      "{'Abena': 1, 'Esi': 1, 'Ama': 1, 'Kwame': 1}\n",
      "{'Abena': 1, 'Esi': 1, 'Ama': 1, 'Kwame': 1, 'Kofi': 1}\n",
      "{'Abena': 1, 'Esi': 1, 'Ama': 2, 'Kwame': 1, 'Kofi': 1}\n",
      "{'Abena': 1, 'Esi': 1, 'Ama': 2, 'Kwame': 1, 'Kofi': 1, 'Kweku': 1}\n",
      "{'Abena': 1, 'Esi': 2, 'Ama': 2, 'Kwame': 1, 'Kofi': 1, 'Kweku': 1}\n",
      "{'Abena': 2, 'Esi': 2, 'Ama': 2, 'Kwame': 1, 'Kofi': 1, 'Kweku': 1}\n",
      "{'Abena': 2, 'Esi': 2, 'Ama': 2, 'Kwame': 1, 'Kofi': 2, 'Kweku': 1}\n",
      "Final dict =  {'Abena': 2, 'Esi': 2, 'Ama': 2, 'Kwame': 1, 'Kofi': 2, 'Kweku': 1}\n",
      "{}\n"
     ]
    }
   ],
   "source": [
    "#practicing finding frequency with dictionaries\n",
    "j = {}\n",
    "names = [\"Abena\", \"Esi\", \"Ama\", \"Kwame\", \"Kofi\", \"Ama\", \"Kweku\",\"Esi\", \"Abena\", \"Kofi\"]\n",
    "for name in names:\n",
    "    if name not in j:\n",
    "        j[name] = 1\n",
    "    else:\n",
    "        j[name] = j[name] + 1\n",
    "    print(j)\n",
    "print(\"Final dict = \", j)\n",
    "\n"
   ]
  },
  {
   "cell_type": "code",
   "execution_count": 12,
   "metadata": {},
   "outputs": [
    {
     "name": "stdout",
     "output_type": "stream",
     "text": [
      "{'Abena': 2, 'Esi': 2, 'Ama': 2, 'Kwame': 1, 'Kofi': 2, 'Kweku': 1}\n"
     ]
    }
   ],
   "source": [
    "#How to get frequencies by using dict.get()\n",
    "k = {}\n",
    "names = [\"Abena\", \"Esi\", \"Ama\", \"Kwame\", \"Kofi\", \"Ama\", \"Kweku\",\"Esi\", \"Abena\", \"Kofi\"]\n",
    "for name in names:\n",
    "    k[name] = k.get(name,0) + 1\n",
    "print(k)"
   ]
  },
  {
   "cell_type": "code",
   "execution_count": 13,
   "metadata": {},
   "outputs": [
    {
     "name": "stdout",
     "output_type": "stream",
     "text": [
      "{'wallet': 2, 'eraser': 2, 'pen': 2, 'pencil': 1}\n"
     ]
    }
   ],
   "source": [
    "y = dict()\n",
    "p = [\"wallet\", \"eraser\", \"pen\", \"wallet\", \"eraser\",\"pen\", \"pencil\"]\n",
    "for i in p:\n",
    "    y[i] = y.get(i,0) + 1\n",
    "print(y)"
   ]
  },
  {
   "cell_type": "code",
   "execution_count": 8,
   "metadata": {},
   "outputs": [
    {
     "name": "stdout",
     "output_type": "stream",
     "text": [
      "{'THE': 1, 'STORY': 2, 'WE': 1, 'ARE': 1, 'WRITING': 1, '2,500': 1, 'THREE': 1, 'WAY': 1, 'LOVE': 1, 'BACK': 1, 'and': 7, 'forth': 1, 'to': 2, 'make': 1, 'you': 4, 'think': 1, \"he's\": 1, 'cheating': 1, 'but': 2, 'in': 4, 'reality': 1, 'he': 3, 'left': 1, 'her': 1, '\"she': 1, 'saw': 1, 'him': 1, 'first\"': 1, 'The': 1, 'man': 2, 'across': 1, 'from': 2, 'me': 3, 'had': 2, 'on': 2, 'a': 4, 'trechcoat': 1, 'hat.': 1, 'It': 1, 'would': 1, 'have': 1, 'been': 1, 'funny': 1, 'except': 1, 'his': 3, 'face': 1, 'was': 4, 'hidden': 1, 'by': 1, 'the': 4, 'shadows': 1, 'tone': 1, 'of': 2, 'voice': 2, 'told': 1, 'charge': 1, 'here.': 1, '\"Do': 1, 'remember': 1, 'why': 1, 'are': 1, 'here?\"He': 1, 'that': 3, 'could': 2, 'only': 1, 'be': 3, 'described': 1, 'as': 2, 'cold,lacking': 1, 'emotion,': 1, 'almost': 1, 'robotic.': 1, 'I': 5, 'losing': 1, 'my': 2, 'mind': 1, 'here': 1, 'this': 2, 'spoke': 1, 'if': 1, \"couldn't\": 1, 'more': 1, 'bored.': 1, 'One': 1, 'minute': 1, 'was-wait': 1, 'I?': 1, '\"I..I..I': 1, \"don't\": 2, 'even': 1, 'know': 2, 'where': 2, 'is': 1, 'supposed': 1, 'be.': 1, 'He': 1, 'leaned': 1, 'foward': 1, 'slowly': 1, 'chair,': 1, 'yet': 1, 'features': 1, 'still': 1, 'not': 1, 'seen': 1, 'distinctly.': 1, '\"Tell': 1, 'what': 1, 'remember,': 1, 'events': 1, 'led': 1, 'up': 1, 'until': 1, 'now\".': 1, '\"But..I': 1, \"don't...wait\": 1, 'do\".': 1, 'And': 1, 'did.They': 1, 'were': 1, 'so': 2, 'sudden,the': 1, 'memories': 1, 'rushed': 1, 'sudden': 1, 'tear': 1, 'fell': 1, 'eye...I': 1, 'am,': 1, \"I'm\": 1, 'probably': 1, 'in........': 1, 'From': 1, ':amartinson@st.ug.edu.gh': 1, '21st': 1, 'December,': 1, '2022.': 1}\n"
     ]
    }
   ],
   "source": [
    "#How to find the frequency of words in a file using dictionary\n",
    "h = {}\n",
    "fhand = open(\"lll.txt\")\n",
    "for line in fhand:\n",
    "    #print(line)\n",
    "    w = line.split()\n",
    "    for word in w:\n",
    "        h[word] = h.get(word,0) + 1\n",
    "       # print(h)\n",
    "print(h)\n"
   ]
  },
  {
   "cell_type": "code",
   "execution_count": 2,
   "metadata": {},
   "outputs": [
    {
     "name": "stdout",
     "output_type": "stream",
     "text": [
      "{'French': 'Mereille', 'Ita': 'Clarice', 'Akan': 'Akosua'}\n",
      "French Mereille\n",
      "Ita Clarice\n",
      "Akan Akosua\n"
     ]
    }
   ],
   "source": [
    "# printing a particular values and keys\n",
    "dic_3 ={}\n",
    "dic_3[\"French\"] = \"Mereille\"\n",
    "dic_3[\"Ita\"] = \"Clarice\"\n",
    "dic_3[\"Akan\"] = \"Akosua\"\n",
    "print(dic_3)\n",
    "\n",
    "\n",
    "for i in dic_3:\n",
    "    print(i, dic_3[i])"
   ]
  },
  {
   "cell_type": "code",
   "execution_count": 6,
   "metadata": {},
   "outputs": [
    {
     "name": "stdout",
     "output_type": "stream",
     "text": [
      "['wallet', 'pencils', 'french names']\n",
      "dict_keys(['wallet', 'pencils', 'french names'])\n",
      "dict_values([2, 3, 'Mereille, Marie'])\n",
      "dict_items([('wallet', 2), ('pencils', 3), ('french names', 'Mereille, Marie')])\n"
     ]
    }
   ],
   "source": [
    "#using dic.items() to get all dictionary components in ordered pairs\n",
    "\n",
    "look_at_me = {\"wallet\": 2 , \"pencils\": 3 , \"french names\": \"Mereille, Marie\"} \n",
    "w = list(look_at_me)\n",
    "print(w) #notice it only gives keys\n",
    "\n",
    "\n",
    "k = look_at_me.keys()\n",
    "print(k)\n",
    "m = look_at_me.values()\n",
    "print(m)\n",
    "b = look_at_me.items()\n",
    "print(b)"
   ]
  },
  {
   "cell_type": "code",
   "execution_count": 8,
   "metadata": {},
   "outputs": [
    {
     "name": "stdout",
     "output_type": "stream",
     "text": [
      "dict_items([('Red', 2), ('Blue', 7), ('Green', 9)])\n",
      "Red 2\n",
      "Blue 7\n",
      "Green 9\n"
     ]
    }
   ],
   "source": [
    "#Of particular interest using a for loop to get key , value pairs in dictionaries\n",
    "w = {\"Red\" : 2, \"Blue\" : 7, \"Green\": 9 }\n",
    "q = (w.items())\n",
    "print(q)\n",
    "\n",
    "#Or do it this way\n",
    "for a,b in w.items():\n",
    "    print(a,b)\n"
   ]
  },
  {
   "cell_type": "code",
   "execution_count": 1,
   "metadata": {},
   "outputs": [],
   "source": [
    "n = int(input())\n",
    "for i in range(0,n,1):\n",
    "    print(i**2)"
   ]
  },
  {
   "cell_type": "code",
   "execution_count": 2,
   "metadata": {},
   "outputs": [
    {
     "name": "stdout",
     "output_type": "stream",
     "text": [
      "1234"
     ]
    }
   ],
   "source": [
    "n = int(input())\n",
    "for i in range(1,n,1):\n",
    "    print(i, end=\"\")"
   ]
  },
  {
   "cell_type": "code",
   "execution_count": 7,
   "metadata": {},
   "outputs": [],
   "source": [
    "n = int(input())\n",
    "if 2 <= n <= 5:\n",
    "    print(\"Yaay\")\n",
    "        "
   ]
  },
  {
   "cell_type": "code",
   "execution_count": 7,
   "metadata": {},
   "outputs": [
    {
     "name": "stdout",
     "output_type": "stream",
     "text": [
      "5 factorial is 120\n"
     ]
    }
   ],
   "source": [
    "n = int(input())\n",
    "h = 1\n",
    "for i in range(1, n+1, 1):\n",
    "    h = h * i\n",
    "   \n",
    "print(n, \"factorial is\", h)"
   ]
  }
 ],
 "metadata": {
  "kernelspec": {
   "display_name": "Python 3",
   "language": "python",
   "name": "python3"
  },
  "language_info": {
   "codemirror_mode": {
    "name": "ipython",
    "version": 3
   },
   "file_extension": ".py",
   "mimetype": "text/x-python",
   "name": "python",
   "nbconvert_exporter": "python",
   "pygments_lexer": "ipython3",
   "version": "3.11.1"
  },
  "orig_nbformat": 4,
  "vscode": {
   "interpreter": {
    "hash": "2eda06f8fe6fb7abb511cc6e50ffbf584d0540cd226e02af9b351e301191bb81"
   }
  }
 },
 "nbformat": 4,
 "nbformat_minor": 2
}
